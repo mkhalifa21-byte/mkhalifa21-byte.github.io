{
  "cells": [
    {
      "cell_type": "markdown",
      "metadata": {
        "id": "7s-sFce8WGTX"
      },
      "source": [
        "## OpenLane Colab\n",
        "\n",
        "This Google Colab notebook will:\n",
        "* Install OpenLane and its dependencies\n",
        "* Run a simple design, namely a serial-parallel multiplier, through the flow\n",
        "  and targeting the [open source sky130 PDK](https://github.com/google/skywater-pdk/)\n",
        "  by Google and Skywater."
      ]
    },
    {
      "cell_type": "code",
      "execution_count": null,
      "metadata": {
        "id": "lP9q6dTIWGTY"
      },
      "outputs": [],
      "source": [
        "# @title Setup Nix {display-mode: \"form\"}\n",
        "# @markdown <img src=\"https://raw.githubusercontent.com/NixOS/nixos-artwork/master/logo/nix-snowflake.svg\" width=\"32\"/>\n",
        "# @markdown\n",
        "# @markdown Nix is a package manager with an emphasis on reproducible builds,\n",
        "# @markdown and it is the primary method for installing OpenLane 2.\n",
        "# @markdown\n",
        "# @markdown This step installs the Nix package manager and enables the\n",
        "# @markdown experimental \"flakes\" feature.\n",
        "# @markdown\n",
        "# @markdown If you're not in a Colab, this just sets the environment variables.\n",
        "# @markdown You will need to install Nix and enable flakes on your own following\n",
        "# @markdown [this guide](https://openlane2.readthedocs.io/en/stable/getting_started/common/nix_installation/index.html).\n",
        "import os\n",
        "import sys\n",
        "import shutil\n",
        "\n",
        "os.environ[\"LOCALE_ARCHIVE\"] = \"/usr/lib/locale/locale-archive\"\n",
        "\n",
        "if \"google.colab\" in sys.modules:\n",
        "    if shutil.which(\"nix-env\") is None:\n",
        "        !curl -L https://nixos.org/nix/install | bash -s -- --daemon --yes\n",
        "        !echo \"extra-experimental-features = nix-command flakes\" >> /etc/nix/nix.conf\n",
        "        !killall nix-daemon\n",
        "else:\n",
        "    if shutil.which(\"nix-env\") is None:\n",
        "        raise RuntimeError(\"Nix is not installed!\")\n",
        "\n",
        "os.environ[\"PATH\"] = f\"/nix/var/nix/profiles/default/bin/:{os.getenv('PATH')}\""
      ]
    },
    {
      "cell_type": "code",
      "execution_count": null,
      "metadata": {
        "id": "cLMHUZkzWGTZ"
      },
      "outputs": [],
      "source": [
        "# @title Get OpenLane {display-mode: \"form\"}\n",
        "# @markdown Click the ▷ button to download and install OpenLane.\n",
        "# @markdown\n",
        "# @markdown This will install OpenLane's tool dependencies using Nix,\n",
        "# @markdown and OpenLane itself using PIP.\n",
        "# @markdown\n",
        "# @markdown Note that `python3-tk` may need to be installed using your OS's\n",
        "# @markdown package manager.\n",
        "import os\n",
        "import subprocess\n",
        "import IPython\n",
        "\n",
        "openlane_version = \"version-2.1\"  # @param {key:\"OpenLane Version\", type:\"string\"}\n",
        "\n",
        "if openlane_version == \"latest\":\n",
        "    openlane_version = \"main\"\n",
        "\n",
        "pdk_root = \"~/.volare\"  # @param {key:\"PDK Root\", type:\"string\"}\n",
        "\n",
        "pdk_root = os.path.expanduser(pdk_root)\n",
        "\n",
        "pdk = \"sky130\"  # @param {key:\"PDK (without the variant)\", type:\"string\"}\n",
        "\n",
        "openlane_ipynb_path = os.path.join(os.getcwd(), \"openlane_ipynb\")\n",
        "\n",
        "display(IPython.display.HTML(\"<h3>Downloading OpenLane…</a>\"))\n",
        "\n",
        "\n",
        "TESTING_LOCALLY = False\n",
        "!rm -rf {openlane_ipynb_path}\n",
        "!mkdir -p {openlane_ipynb_path}\n",
        "if TESTING_LOCALLY:\n",
        "    !ln -s {os.getcwd()} {openlane_ipynb_path}\n",
        "else:\n",
        "    !curl -L \"https://github.com/efabless/openlane2/tarball/{openlane_version}\" | tar -xzC {openlane_ipynb_path} --strip-components 1\n",
        "\n",
        "try:\n",
        "    import tkinter\n",
        "except ImportError:\n",
        "    if \"google.colab\" in sys.modules:\n",
        "        !sudo apt-get install python-tk\n",
        "\n",
        "try:\n",
        "    import tkinter\n",
        "except ImportError as e:\n",
        "    display(\n",
        "        IPython.display.HTML(\n",
        "            '<h3 style=\"color: #800020\";>❌ Failed to import the <code>tkinter</code> library for Python, which is required to load PDK configuration values. Make sure <code>python3-tk</code> or equivalent is installed on your system.</a>'\n",
        "        )\n",
        "    )\n",
        "    raise e from None\n",
        "\n",
        "\n",
        "display(IPython.display.HTML(\"<h3>Downloading OpenLane's dependencies…</a>\"))\n",
        "try:\n",
        "    subprocess.check_call(\n",
        "        [\"nix\", \"profile\", \"install\", \".#colab-env\", \"--accept-flake-config\"],\n",
        "        cwd=openlane_ipynb_path,\n",
        "    )\n",
        "except subprocess.CalledProcessError as e:\n",
        "    display(\n",
        "        IPython.display.HTML(\n",
        "            '<h3 style=\"color: #800020\";>❌ Failed to install binary dependencies using Nix…</h3>'\n",
        "        )\n",
        "    )\n",
        "\n",
        "display(IPython.display.HTML(\"<h3>Downloading Python dependencies using PIP…</a>\"))\n",
        "try:\n",
        "    subprocess.check_call(\n",
        "        [\"pip3\", \"install\", \".\"],\n",
        "        cwd=openlane_ipynb_path,\n",
        "    )\n",
        "except subprocess.CalledProcessError as e:\n",
        "    display(\n",
        "        IPython.display.HTML(\n",
        "            '<h3 style=\"color: #800020\";>❌ Failed to install Python dependencies using PIP…</h3>'\n",
        "        )\n",
        "    )\n",
        "    raise e from None\n",
        "\n",
        "display(IPython.display.HTML(\"<h3>Downloading PDK…</a>\"))\n",
        "import volare\n",
        "\n",
        "volare.enable(\n",
        "    volare.get_volare_home(pdk_root),\n",
        "    pdk,\n",
        "    open(\n",
        "        os.path.join(openlane_ipynb_path, \"openlane\", \"open_pdks_rev\"),\n",
        "        encoding=\"utf8\",\n",
        "    )\n",
        "    .read()\n",
        "    .strip(),\n",
        ")\n",
        "\n",
        "sys.path.insert(0, openlane_ipynb_path)\n",
        "display(IPython.display.HTML(\"<h3>⭕️ Done.</a>\"))\n",
        "\n",
        "import logging\n",
        "\n",
        "# Remove the stupid default colab logging handler\n",
        "logging.getLogger().handlers.clear()"
      ]
    },
    {
      "cell_type": "code",
      "execution_count": 44,
      "metadata": {
        "id": "vzSQhs10WGTZ",
        "outputId": "01c06127-8c1c-463c-f066-21fa568b8acc",
        "colab": {
          "base_uri": "https://localhost:8080/"
        }
      },
      "outputs": [
        {
          "output_type": "stream",
          "name": "stdout",
          "text": [
            "2.3.10\n"
          ]
        }
      ],
      "source": [
        "import openlane\n",
        "\n",
        "print(openlane.__version__)"
      ]
    },
    {
      "cell_type": "markdown",
      "metadata": {
        "id": "IISrKFo2WGTZ"
      },
      "source": [
        "### Creating the design\n",
        "\n",
        "Now that OpenLane is set up, we can write a Verilog file as follows:"
      ]
    },
    {
      "cell_type": "code",
      "execution_count": 45,
      "metadata": {
        "id": "hYvyJuEgWGTZ",
        "outputId": "3f5f479c-4fc0-433a-f1dd-307639adbe62",
        "colab": {
          "base_uri": "https://localhost:8080/"
        }
      },
      "outputs": [
        {
          "output_type": "stream",
          "name": "stdout",
          "text": [
            "Overwriting spm.v\n"
          ]
        }
      ],
      "source": [
        "%%writefile spm.v\n",
        "module fifo #(\n",
        "    parameter DATA_WIDTH = 8,\n",
        "    parameter DEPTH = 16\n",
        ")(\n",
        "    input clk,\n",
        "    input rst,\n",
        "    input wr_en,\n",
        "    input rd_en,\n",
        "    input [DATA_WIDTH-1:0] din,\n",
        "    output reg [DATA_WIDTH-1:0] dout,\n",
        "    output reg full,\n",
        "    output reg empty\n",
        ");\n",
        "\n",
        "    reg [DATA_WIDTH-1:0] mem [0:DEPTH-1];\n",
        "    reg [$clog2(DEPTH):0] wr_ptr, rd_ptr, count;\n",
        "\n",
        "    always @(posedge clk or posedge rst) begin\n",
        "        if (rst) begin\n",
        "            wr_ptr <= 0;\n",
        "            rd_ptr <= 0;\n",
        "            count  <= 0;\n",
        "            full   <= 0;\n",
        "            empty  <= 1;\n",
        "        end else begin\n",
        "            // Write operation\n",
        "            if (wr_en && !full) begin\n",
        "                mem[wr_ptr] <= din;\n",
        "                wr_ptr <= wr_ptr + 1;\n",
        "                count <= count + 1;\n",
        "            end\n",
        "\n",
        "            // Read operation\n",
        "            if (rd_en && !empty) begin\n",
        "                dout <= mem[rd_ptr];\n",
        "                rd_ptr <= rd_ptr + 1;\n",
        "                count <= count - 1;\n",
        "            end\n",
        "\n",
        "            // Update flags\n",
        "            full  <= (count == DEPTH);\n",
        "            empty <= (count == 0);\n",
        "        end\n",
        "    end\n",
        "endmodule"
      ]
    },
    {
      "cell_type": "markdown",
      "metadata": {
        "id": "6Qe_t_YeWGTZ"
      },
      "source": [
        "### Setting up the configuration\n",
        "\n",
        "OpenLane requries you to configure any Flow before using it. This is done using\n",
        "the `config` module.\n",
        "\n",
        "For colaboratories, REPLs and other interactive environments where there is no\n",
        "concrete Flow object, the Configuration may be initialized using `Config.interactive`,\n",
        "which will automatically propagate the configuration to any future steps.\n",
        "\n",
        "You can find the documentation for `Config.interactive` [here](https://openlane2.readthedocs.io/en/latest/reference/api/config/index.html#openlane.config.Config.interactive).\n",
        "\n"
      ]
    },
    {
      "cell_type": "code",
      "execution_count": 36,
      "metadata": {
        "id": "J6BX5nFxWGTZ",
        "outputId": "adc7c354-3194-4604-f1d6-9a1770b7d8b7",
        "colab": {
          "base_uri": "https://localhost:8080/",
          "height": 1000
        }
      },
      "outputs": [
        {
          "output_type": "execute_result",
          "data": {
            "text/plain": [
              "{'STD_CELL_LIBRARY': 'sky130_fd_sc_hd', 'VDD_PIN': 'VPWR', 'VDD_PIN_VOLTAGE': Decimal('1.80'), 'GND_PIN': 'VGND', 'WIRE_LENGTH_THRESHOLD': None, 'TECH_LEFS': {'nom_*': Path('/root/.volare/sky130A/libs.ref/sky130_fd_sc_hd/techlef/sky130_fd_sc_hd__nom.tlef'), 'min_*': Path('/root/.volare/sky130A/libs.ref/sky130_fd_sc_hd/techlef/sky130_fd_sc_hd__min.tlef'), 'max_*': Path('/root/.volare/sky130A/libs.ref/sky130_fd_sc_hd/techlef/sky130_fd_sc_hd__max.tlef')}, 'GPIO_PADS_LEF': [Path('/root/.volare/sky130A/libs.ref/sky130_fd_io/lef/sky130_fd_io.lef'), Path('/root/.volare/sky130A/libs.ref/sky130_fd_io/lef/sky130_ef_io.lef')], 'GPIO_PADS_LEF_CORE_SIDE': [Path('/root/.volare/sky130A/libs.tech/openlane/custom_cells/lef/sky130_fd_io_core.lef'), Path('/root/.volare/sky130A/libs.tech/openlane/custom_cells/lef/sky130_ef_io_core.lef')], 'GPIO_PADS_VERILOG': [Path('/root/.volare/sky130A/libs.ref/sky130_fd_io/verilog/sky130_ef_io.v')], 'GPIO_PAD_CELLS': ['sky130_fd_io*', 'sky130_ef_io*'], 'PRIMARY_GDSII_STREAMOUT_TOOL': 'klayout', 'DEFAULT_MAX_TRAN': None, 'SIGNAL_WIRE_RC_LAYERS': None, 'CLOCK_WIRE_RC_LAYERS': None, 'DEFAULT_CORNER': 'nom_tt_025C_1v80', 'STA_CORNERS': ['nom_tt_025C_1v80', 'nom_ss_100C_1v60', 'nom_ff_n40C_1v95', 'min_tt_025C_1v80', 'min_ss_100C_1v60', 'min_ff_n40C_1v95', 'max_tt_025C_1v80', 'max_ss_100C_1v60', 'max_ff_n40C_1v95'], 'FP_TRACKS_INFO': Path('/root/.volare/sky130A/libs.tech/openlane/sky130_fd_sc_hd/tracks.info'), 'FP_TAPCELL_DIST': Decimal('13'), 'FP_IO_HLAYER': 'met3', 'FP_IO_VLAYER': 'met2', 'RT_MIN_LAYER': 'met1', 'RT_MAX_LAYER': 'met5', 'SCL_GROUND_PINS': ['VGND', 'VNB'], 'SCL_POWER_PINS': ['VPWR', 'VPB'], 'TRISTATE_CELLS': ['sky130_fd_sc_hd__ebuf*'], 'FILL_CELL': ['sky130_fd_sc_hd__fill*'], 'DECAP_CELL': ['sky130_ef_sc_hd__decap_12', 'sky130_fd_sc_hd__decap_8', 'sky130_fd_sc_hd__decap_6', 'sky130_fd_sc_hd__decap_4', 'sky130_fd_sc_hd__decap_3'], 'LIB': {'*_tt_025C_1v80': [Path('/root/.volare/sky130A/libs.ref/sky130_fd_sc_hd/lib/sky130_fd_sc_hd__tt_025C_1v80.lib')], '*_ss_100C_1v60': [Path('/root/.volare/sky130A/libs.ref/sky130_fd_sc_hd/lib/sky130_fd_sc_hd__ss_100C_1v60.lib')], '*_ff_n40C_1v95': [Path('/root/.volare/sky130A/libs.ref/sky130_fd_sc_hd/lib/sky130_fd_sc_hd__ff_n40C_1v95.lib')]}, 'CELL_LEFS': [Path('/root/.volare/sky130A/libs.ref/sky130_fd_sc_hd/lef/sky130_fd_sc_hd.lef'), Path('/root/.volare/sky130A/libs.ref/sky130_fd_sc_hd/lef/sky130_ef_sc_hd.lef')], 'CELL_GDS': [Path('/root/.volare/sky130A/libs.ref/sky130_fd_sc_hd/gds/sky130_fd_sc_hd.gds')], 'CELL_VERILOG_MODELS': [Path('/root/.volare/sky130A/libs.ref/sky130_fd_sc_hd/verilog/primitives.v'), Path('/root/.volare/sky130A/libs.ref/sky130_fd_sc_hd/verilog/sky130_fd_sc_hd.v')], 'CELL_BB_VERILOG_MODELS': [Path('/root/.volare/sky130A/libs.ref/sky130_fd_sc_hd/verilog/sky130_fd_sc_hd__blackbox.v'), Path('/root/.volare/sky130A/libs.ref/sky130_fd_sc_hd/verilog/sky130_fd_sc_hd__blackbox_pp.v')], 'CELL_SPICE_MODELS': [Path('/root/.volare/sky130A/libs.ref/sky130_fd_sc_hd/spice/sky130_ef_sc_hd__decap_12.spice'), Path('/root/.volare/sky130A/libs.ref/sky130_fd_sc_hd/spice/sky130_ef_sc_hd__fill_12.spice'), Path('/root/.volare/sky130A/libs.ref/sky130_fd_sc_hd/spice/sky130_ef_sc_hd__fill_4.spice'), Path('/root/.volare/sky130A/libs.ref/sky130_fd_sc_hd/spice/sky130_ef_sc_hd__fill_8.spice'), Path('/root/.volare/sky130A/libs.ref/sky130_fd_sc_hd/spice/sky130_fd_sc_hd.spice')], 'SYNTH_EXCLUDED_CELL_FILE': Path('/root/.volare/sky130A/libs.tech/openlane/sky130_fd_sc_hd/no_synth.cells'), 'PNR_EXCLUDED_CELL_FILE': Path('/root/.volare/sky130A/libs.tech/openlane/sky130_fd_sc_hd/drc_exclude.cells'), 'OUTPUT_CAP_LOAD': Decimal('33.442'), 'MAX_FANOUT_CONSTRAINT': 10, 'MAX_TRANSITION_CONSTRAINT': Decimal('0.75'), 'MAX_CAPACITANCE_CONSTRAINT': Decimal('0.2'), 'CLOCK_UNCERTAINTY_CONSTRAINT': Decimal('0.25'), 'CLOCK_TRANSITION_CONSTRAINT': Decimal('0.1499999999999999944488848768742172978818416595458984375'), 'TIME_DERATING_CONSTRAINT': Decimal('5'), 'IO_DELAY_CONSTRAINT': Decimal('20'), 'SYNTH_DRIVING_CELL': 'sky130_fd_sc_hd__inv_2/Y', 'SYNTH_CLK_DRIVING_CELL': None, 'SYNTH_TIEHI_CELL': 'sky130_fd_sc_hd__conb_1/HI', 'SYNTH_TIELO_CELL': 'sky130_fd_sc_hd__conb_1/LO', 'SYNTH_BUFFER_CELL': 'sky130_fd_sc_hd__buf_2/A/X', 'WELLTAP_CELL': 'sky130_fd_sc_hd__tapvpwrvgnd_1', 'ENDCAP_CELL': 'sky130_fd_sc_hd__decap_3', 'PLACE_SITE': 'unithd', 'CELL_PAD_EXCLUDE': ['sky130_fd_sc_hd__tap*', 'sky130_fd_sc_hd__decap*', 'sky130_ef_sc_hd__decap*', 'sky130_fd_sc_hd__fill*'], 'DIODE_CELL': 'sky130_fd_sc_hd__diode_2/DIODE', 'DESIGN_DIR': Path('.'), 'PDK_ROOT': Path('/root/.volare'), 'DESIGN_NAME': 'spm', 'PDK': 'sky130A', 'CLOCK_PERIOD': Decimal('10'), 'CLOCK_PORT': 'clk', 'CLOCK_NET': 'clk', 'VDD_NETS': None, 'GND_NETS': None, 'DIE_AREA': None, 'EXTRA_EXCLUDED_CELLS': None, 'MACROS': None, 'EXTRA_LEFS': None, 'EXTRA_VERILOG_MODELS': None, 'EXTRA_SPICE_MODELS': None, 'EXTRA_LIBS': None, 'EXTRA_GDS_FILES': None, 'FALLBACK_SDC_FILE': Path('/content/openlane_ipynb/openlane/scripts/base.sdc'), 'meta': Meta(version=1, flow=None, substituting_steps=None, step=None, openlane_version='2.3.10')}"
            ],
            "text/markdown": "\n### Interactive Configuration\n#### Initial Values\n\n<br />\n\n```yaml\nCELL_BB_VERILOG_MODELS:\n- /root/.volare/sky130A/libs.ref/sky130_fd_sc_hd/verilog/sky130_fd_sc_hd__blackbox.v\n- /root/.volare/sky130A/libs.ref/sky130_fd_sc_hd/verilog/sky130_fd_sc_hd__blackbox_pp.v\nCELL_GDS:\n- /root/.volare/sky130A/libs.ref/sky130_fd_sc_hd/gds/sky130_fd_sc_hd.gds\nCELL_LEFS:\n- /root/.volare/sky130A/libs.ref/sky130_fd_sc_hd/lef/sky130_fd_sc_hd.lef\n- /root/.volare/sky130A/libs.ref/sky130_fd_sc_hd/lef/sky130_ef_sc_hd.lef\nCELL_PAD_EXCLUDE:\n- sky130_fd_sc_hd__tap*\n- sky130_fd_sc_hd__decap*\n- sky130_ef_sc_hd__decap*\n- sky130_fd_sc_hd__fill*\nCELL_SPICE_MODELS:\n- /root/.volare/sky130A/libs.ref/sky130_fd_sc_hd/spice/sky130_ef_sc_hd__decap_12.spice\n- /root/.volare/sky130A/libs.ref/sky130_fd_sc_hd/spice/sky130_ef_sc_hd__fill_12.spice\n- /root/.volare/sky130A/libs.ref/sky130_fd_sc_hd/spice/sky130_ef_sc_hd__fill_4.spice\n- /root/.volare/sky130A/libs.ref/sky130_fd_sc_hd/spice/sky130_ef_sc_hd__fill_8.spice\n- /root/.volare/sky130A/libs.ref/sky130_fd_sc_hd/spice/sky130_fd_sc_hd.spice\nCELL_VERILOG_MODELS:\n- /root/.volare/sky130A/libs.ref/sky130_fd_sc_hd/verilog/primitives.v\n- /root/.volare/sky130A/libs.ref/sky130_fd_sc_hd/verilog/sky130_fd_sc_hd.v\nCLOCK_NET: clk\nCLOCK_PERIOD: 10\nCLOCK_PORT: clk\nCLOCK_TRANSITION_CONSTRAINT: 0.15\nCLOCK_UNCERTAINTY_CONSTRAINT: 0.25\nCLOCK_WIRE_RC_LAYERS: null\nDECAP_CELL:\n- sky130_ef_sc_hd__decap_12\n- sky130_fd_sc_hd__decap_8\n- sky130_fd_sc_hd__decap_6\n- sky130_fd_sc_hd__decap_4\n- sky130_fd_sc_hd__decap_3\nDEFAULT_CORNER: nom_tt_025C_1v80\nDEFAULT_MAX_TRAN: null\nDESIGN_DIR: .\nDESIGN_NAME: spm\nDIE_AREA: null\nDIODE_CELL: sky130_fd_sc_hd__diode_2/DIODE\nENDCAP_CELL: sky130_fd_sc_hd__decap_3\nEXTRA_EXCLUDED_CELLS: null\nEXTRA_GDS_FILES: null\nEXTRA_LEFS: null\nEXTRA_LIBS: null\nEXTRA_SPICE_MODELS: null\nEXTRA_VERILOG_MODELS: null\nFALLBACK_SDC_FILE: /content/openlane_ipynb/openlane/scripts/base.sdc\nFILL_CELL:\n- sky130_fd_sc_hd__fill*\nFP_IO_HLAYER: met3\nFP_IO_VLAYER: met2\nFP_TAPCELL_DIST: 13\nFP_TRACKS_INFO: /root/.volare/sky130A/libs.tech/openlane/sky130_fd_sc_hd/tracks.info\nGND_NETS: null\nGND_PIN: VGND\nGPIO_PADS_LEF:\n- /root/.volare/sky130A/libs.ref/sky130_fd_io/lef/sky130_fd_io.lef\n- /root/.volare/sky130A/libs.ref/sky130_fd_io/lef/sky130_ef_io.lef\nGPIO_PADS_LEF_CORE_SIDE:\n- /root/.volare/sky130A/libs.tech/openlane/custom_cells/lef/sky130_fd_io_core.lef\n- /root/.volare/sky130A/libs.tech/openlane/custom_cells/lef/sky130_ef_io_core.lef\nGPIO_PADS_VERILOG:\n- /root/.volare/sky130A/libs.ref/sky130_fd_io/verilog/sky130_ef_io.v\nGPIO_PAD_CELLS:\n- sky130_fd_io*\n- sky130_ef_io*\nIO_DELAY_CONSTRAINT: 20\nLIB:\n  '*_ff_n40C_1v95':\n  - /root/.volare/sky130A/libs.ref/sky130_fd_sc_hd/lib/sky130_fd_sc_hd__ff_n40C_1v95.lib\n  '*_ss_100C_1v60':\n  - /root/.volare/sky130A/libs.ref/sky130_fd_sc_hd/lib/sky130_fd_sc_hd__ss_100C_1v60.lib\n  '*_tt_025C_1v80':\n  - /root/.volare/sky130A/libs.ref/sky130_fd_sc_hd/lib/sky130_fd_sc_hd__tt_025C_1v80.lib\nMACROS: null\nMAX_CAPACITANCE_CONSTRAINT: 0.2\nMAX_FANOUT_CONSTRAINT: 10\nMAX_TRANSITION_CONSTRAINT: 0.75\nOUTPUT_CAP_LOAD: 33.442\nPDK: sky130A\nPDK_ROOT: /root/.volare\nPLACE_SITE: unithd\nPNR_EXCLUDED_CELL_FILE: /root/.volare/sky130A/libs.tech/openlane/sky130_fd_sc_hd/drc_exclude.cells\nPRIMARY_GDSII_STREAMOUT_TOOL: klayout\nRT_MAX_LAYER: met5\nRT_MIN_LAYER: met1\nSCL_GROUND_PINS:\n- VGND\n- VNB\nSCL_POWER_PINS:\n- VPWR\n- VPB\nSIGNAL_WIRE_RC_LAYERS: null\nSTA_CORNERS:\n- nom_tt_025C_1v80\n- nom_ss_100C_1v60\n- nom_ff_n40C_1v95\n- min_tt_025C_1v80\n- min_ss_100C_1v60\n- min_ff_n40C_1v95\n- max_tt_025C_1v80\n- max_ss_100C_1v60\n- max_ff_n40C_1v95\nSTD_CELL_LIBRARY: sky130_fd_sc_hd\nSYNTH_BUFFER_CELL: sky130_fd_sc_hd__buf_2/A/X\nSYNTH_CLK_DRIVING_CELL: null\nSYNTH_DRIVING_CELL: sky130_fd_sc_hd__inv_2/Y\nSYNTH_EXCLUDED_CELL_FILE: /root/.volare/sky130A/libs.tech/openlane/sky130_fd_sc_hd/no_synth.cells\nSYNTH_TIEHI_CELL: sky130_fd_sc_hd__conb_1/HI\nSYNTH_TIELO_CELL: sky130_fd_sc_hd__conb_1/LO\nTECH_LEFS:\n  max_*: /root/.volare/sky130A/libs.ref/sky130_fd_sc_hd/techlef/sky130_fd_sc_hd__max.tlef\n  min_*: /root/.volare/sky130A/libs.ref/sky130_fd_sc_hd/techlef/sky130_fd_sc_hd__min.tlef\n  nom_*: /root/.volare/sky130A/libs.ref/sky130_fd_sc_hd/techlef/sky130_fd_sc_hd__nom.tlef\nTIME_DERATING_CONSTRAINT: 5\nTRISTATE_CELLS:\n- sky130_fd_sc_hd__ebuf*\nVDD_NETS: null\nVDD_PIN: VPWR\nVDD_PIN_VOLTAGE: 1.8\nWELLTAP_CELL: sky130_fd_sc_hd__tapvpwrvgnd_1\nWIRE_LENGTH_THRESHOLD: null\nmeta:\n  flow: null\n  openlane_version: 2.3.10\n  step: null\n  substituting_steps: null\n  version: 1\n\n```\n"
          },
          "metadata": {},
          "execution_count": 36
        }
      ],
      "source": [
        "from openlane.config import Config\n",
        "\n",
        "Config.interactive(\n",
        "    \"spm\",\n",
        "    PDK=\"sky130A\",\n",
        "    CLOCK_PORT=\"clk\",\n",
        "    CLOCK_NET=\"clk\",\n",
        "    CLOCK_PERIOD=10,\n",
        "    PRIMARY_GDSII_STREAMOUT_TOOL=\"klayout\",\n",
        ")"
      ]
    },
    {
      "cell_type": "markdown",
      "metadata": {
        "id": "bSwZIhnyWGTa"
      },
      "source": [
        "### Running implementation steps\n",
        "\n",
        "There are two ways to obtain OpenLane's built-in implementation steps:\n",
        "\n",
        "* via directly importing from the `steps` module using its category:\n",
        "    * `from openlane.steps import Yosys` then `Synthesis = Yosys.Synthesis`\n",
        "* by using the step's id from the registry:\n",
        "    * `from openlane.steps import Step` then `Synthesis = Step.factory.get(\"Yosys.Synthesis\")`\n",
        "\n",
        "You can find a full list of included steps here: https://openlane2.readthedocs.io/en/latest/reference/step_config_vars.html"
      ]
    },
    {
      "cell_type": "code",
      "execution_count": 37,
      "metadata": {
        "id": "yOusU3wfWGTa"
      },
      "outputs": [],
      "source": [
        "from openlane.steps import Step"
      ]
    },
    {
      "cell_type": "markdown",
      "metadata": {
        "id": "uSgKh06QWGTa"
      },
      "source": [
        "* First, get the step (and display its help)..."
      ]
    },
    {
      "cell_type": "code",
      "execution_count": 38,
      "metadata": {
        "id": "AUiSYpl_WGTa",
        "outputId": "0af5c616-8a77-4deb-fa67-c91dc62bea6a",
        "colab": {
          "base_uri": "https://localhost:8080/",
          "height": 1000
        }
      },
      "outputs": [
        {
          "output_type": "display_data",
          "data": {
            "text/plain": [
              "<IPython.core.display.Markdown object>"
            ],
            "text/markdown": "\n(step-yosys-synthesis)=\n### Synthesis\n\n```{eval-rst}\n\nPerforms synthesis and technology mapping on Verilog RTL files\nusing Yosys and ABC, emitting a netlist.\n\nSome metrics will also be extracted and updated, namely:\n\n* ``design__instance__count``\n* ``design__instance_unmapped__count``\n* ``design__instance__area``\n\n```\n\n#### Importing\n```python\nfrom openlane.steps.yosys import Synthesis\n\n# or\n\nfrom openlane.steps import Step\n\nSynthesis = Step.factory.get(\"Yosys.Synthesis\")\n```\n\n\n#### Inputs and Outputs\n\n| Inputs | Outputs |\n| - | - |\n|  | Verilog Netlist (.nl.v) |\n\n(yosys.synthesis-configuration-variables)=\n#### Configuration Variables\n\n| Variable Name | Type | Description | Default | Units |\n| - | - | - | - | - |\n| `SYNTH_LATCH_MAP`{#var-yosys-synthesis-synth_latch_map}<sup>PDK</sup> | Path? | A path to a file containing the latch mapping for Yosys. | `None` |  |\n| `SYNTH_TRISTATE_MAP`{#var-yosys-synthesis-synth_tristate_map}<sup>PDK</sup> | Path? | A path to a file containing the tri-state buffer mapping for Yosys. | `None` |  |\n| `SYNTH_CSA_MAP`{#var-yosys-synthesis-synth_csa_map}<sup>PDK</sup> | Path? | A path to a file containing the carry-select adder mapping for Yosys. | `None` |  |\n| `SYNTH_RCA_MAP`{#var-yosys-synthesis-synth_rca_map}<sup>PDK</sup> | Path? | A path to a file containing the ripple-carry adder mapping for Yosys. | `None` |  |\n| `SYNTH_FA_MAP`{#var-yosys-synthesis-synth_fa_map}<sup>PDK</sup> | Path? | A path to a file containing the full adder mapping for Yosys. | `None` |  |\n| `SYNTH_MUX_MAP`{#var-yosys-synthesis-synth_mux_map}<sup>PDK</sup> | Path? | A path to a file containing the mux mapping for Yosys. | `None` |  |\n| `SYNTH_MUX4_MAP`{#var-yosys-synthesis-synth_mux4_map}<sup>PDK</sup> | Path? | A path to a file containing the mux4 mapping for Yosys. | `None` |  |\n| `USE_LIGHTER`{#var-yosys-synthesis-use_lighter} | bool | Activates Lighter, an experimental plugin that attempts to optimize clock-gated flip-flops. | `False` |  |\n| `LIGHTER_DFF_MAP`{#var-yosys-synthesis-lighter_dff_map} | Path? | An override to the custom DFF map file provided for the given SCL by Lighter. | `None` |  |\n| `YOSYS_LOG_LEVEL`{#var-yosys-synthesis-yosys_log_level} | 'ALL'｜<br />'WARNING'｜<br />'ERROR' | Which log level for Yosys. At WARNING or higher, the initialization splash is also disabled. | `ALL` |  |\n| `SYNTH_CHECKS_ALLOW_TRISTATE`{#var-yosys-synthesis-synth_checks_allow_tristate} | bool | Ignore multiple-driver warnings if they are connected to tri-state buffers on a best-effort basis. | `True` |  |\n| `SYNTH_AUTONAME`{#var-yosys-synthesis-synth_autoname} | bool | Generates names for netlist instances. This results in instance names that can be extremely long, but are more human-readable. | `False` |  |\n| `SYNTH_STRATEGY`{#var-yosys-synthesis-synth_strategy} | 'AREA 0'｜<br />'AREA 1'｜<br />'AREA 2'｜<br />'AREA 3'｜<br />'DELAY 0'｜<br />'DELAY 1'｜<br />'DELAY 2'｜<br />'DELAY 3'｜<br />'DELAY 4' | Strategies for abc logic synthesis and technology mapping. AREA strategies usually result in a more compact design, while DELAY strategies usually result in a design that runs at a higher frequency. Please note that there is no way to know which strategy is the best before trying them. | `AREA 0` |  |\n| `SYNTH_ABC_BUFFERING`{#var-yosys-synthesis-synth_abc_buffering} | bool | Enables `abc` cell buffering. | `False` |  |\n| `SYNTH_ABC_LEGACY_REFACTOR`{#var-yosys-synthesis-synth_abc_legacy_refactor} | bool | Replaces the ABC command `drf -l` with `refactor` which matches older versions of OpenLane but is more unstable. | `False` |  |\n| `SYNTH_ABC_LEGACY_REWRITE`{#var-yosys-synthesis-synth_abc_legacy_rewrite} | bool | Replaces the ABC command `drw -l` with `rewrite` which matches older versions of OpenLane but is more unstable. | `False` |  |\n| `SYNTH_DIRECT_WIRE_BUFFERING`{#var-yosys-synthesis-synth_direct_wire_buffering} | bool | Enables inserting buffer cells for directly connected wires. | `True` |  |\n| `SYNTH_SPLITNETS`{#var-yosys-synthesis-synth_splitnets} | bool | Splits multi-bit nets into single-bit nets. Easier to trace but may not be supported by all tools. | `True` |  |\n| `SYNTH_SIZING`{#var-yosys-synthesis-synth_sizing} | bool | Enables `abc` cell sizing (instead of buffering). | `False` |  |\n| `SYNTH_NO_FLAT`{#var-yosys-synthesis-synth_no_flat} | bool | A flag that disables flattening the hierarchy during synthesis, only flattening it after synthesis, mapping and optimizations. | `False` |  |\n| `SYNTH_SHARE_RESOURCES`{#var-yosys-synthesis-synth_share_resources} | bool | A flag that enables yosys to reduce the number of cells by determining shareable resources and merging them. | `True` |  |\n| `SYNTH_ADDER_TYPE`{#var-yosys-synthesis-synth_adder_type} | 'YOSYS'｜<br />'FA'｜<br />'RCA'｜<br />'CSA' | Adder type to which the $add and $sub operators are mapped to.  Possible values are `YOSYS/FA/RCA/CSA`; where `YOSYS` refers to using Yosys internal adder definition, `FA` refers to full-adder structure, `RCA` refers to ripple carry adder structure, and `CSA` refers to carry select adder. | `YOSYS` |  |\n| `SYNTH_EXTRA_MAPPING_FILE`{#var-yosys-synthesis-synth_extra_mapping_file} | Path? | Points to an extra techmap file for yosys that runs right after yosys `synth` before generic techmap. | `None` |  |\n| `SYNTH_PARAMETERS`{#var-yosys-synthesis-synth_parameters} | List[str]? | Key-value pairs to be `chparam`ed in Yosys, in the format `key1=value1`. | `None` |  |\n| `SYNTH_ELABORATE_ONLY`{#var-yosys-synthesis-synth_elaborate_only} | bool | \"Elaborate\" the design only without attempting any logic mapping. Useful when dealing with structural Verilog netlists. | `False` |  |\n| `SYNTH_ELABORATE_FLATTEN`{#var-yosys-synthesis-synth_elaborate_flatten} | bool | If `SYNTH_ELABORATE_ONLY` is specified, this variable controls whether or not the top level should be flattened. | `True` |  |\n| `VERILOG_FILES`{#var-yosys-synthesis-verilog_files} | List[Path] | The paths of the design's Verilog files. | `None` |  |\n| `VERILOG_DEFINES`{#var-yosys-synthesis-verilog_defines} | List[str]? | Preprocessor defines for input Verilog files. | `None` |  |\n| `VERILOG_POWER_DEFINE`{#var-yosys-synthesis-verilog_power_define} | str | Specifies the name of the define used to guard power and ground connections in the input RTL. | `USE_POWER_PINS` |  |\n| `VERILOG_INCLUDE_DIRS`{#var-yosys-synthesis-verilog_include_dirs} | List[str]? | Specifies the Verilog `include` directories. | `None` |  |\n| `USE_SYNLIG`{#var-yosys-synthesis-use_synlig} | bool | Use the Synlig plugin to process files, which has better SystemVerilog parsing capabilities but may not be compatible with all Yosys commands and attributes. | `False` |  |\n| `SYNLIG_DEFER`{#var-yosys-synthesis-synlig_defer} | bool | Uses -defer flag when reading files the Synlig plugin, which may improve performance by reading each file separately, but is experimental. | `False` |  |\n\n"
          },
          "metadata": {}
        }
      ],
      "source": [
        "Synthesis = Step.factory.get(\"Yosys.Synthesis\")\n",
        "\n",
        "Synthesis.display_help()"
      ]
    },
    {
      "cell_type": "markdown",
      "metadata": {
        "id": "ifk4lfuLWGTa"
      },
      "source": [
        "* Then run it. Note you can pass step-specific configs using Python keyword\n",
        "  arguments."
      ]
    },
    {
      "cell_type": "markdown",
      "metadata": {
        "id": "zwETg1NLWGTa"
      },
      "source": [
        "### Synthesis\n",
        "\n",
        "We need to start by converting our high-level Verilog to one that just shows\n",
        "the connections between small silicon patterns called \"standard cells\" in process\n",
        "called Synthesis. We can do this by passing the Verilog files as a configuration\n",
        "variable to `Yosys.Synthesis` as follows, then running it.\n",
        "\n",
        "As this is the first step, we need to create an empty state and pass it to it."
      ]
    },
    {
      "cell_type": "code",
      "execution_count": null,
      "metadata": {
        "scrolled": true,
        "id": "KhGixFrtWGTa"
      },
      "outputs": [],
      "source": [
        "from openlane.state import State\n",
        "\n",
        "synthesis = Synthesis(\n",
        "    VERILOG_FILES=[\"./spm.v\"],\n",
        "    state_in=State(),\n",
        ")\n",
        "synthesis.start()"
      ]
    },
    {
      "cell_type": "code",
      "execution_count": 39,
      "metadata": {
        "id": "n3seU1-xWGTa",
        "outputId": "5e478821-76d3-4075-ec26-77142f329da7",
        "colab": {
          "base_uri": "https://localhost:8080/",
          "height": 118
        }
      },
      "outputs": [
        {
          "output_type": "display_data",
          "data": {
            "text/plain": [
              "<openlane.steps.yosys.Synthesis at 0x7bc62bb3dc90>"
            ],
            "text/markdown": "#### Time Elapsed: 5.89s\n#### Views updated:\n* Verilog Netlist\n"
          },
          "metadata": {}
        }
      ],
      "source": [
        "display(synthesis)"
      ]
    },
    {
      "cell_type": "markdown",
      "metadata": {
        "id": "TnxcL_WiWGTa"
      },
      "source": [
        "### Floorplanning\n",
        "\n",
        "Floorplanning does two things:\n",
        "\n",
        "* Determines the dimensions of the final chip.\n",
        "* Creates the \"cell placement grid\" which placed cells must be aligned to.\n",
        "    * Each cell in the grid is called a \"site.\" Cells can occupy multiple\n",
        "      sites, with the overwhelming majority of cells occupying multiple sites\n",
        "      by width, and some standard cell libraries supporting varying heights as well.\n",
        "\n",
        "> Don't forget- you may call `display_help()` on any Step class to get a full\n",
        "> list of configuration variables.\n",
        ""
      ]
    },
    {
      "cell_type": "code",
      "execution_count": 40,
      "metadata": {
        "id": "0dRl7H1BWGTa",
        "outputId": "d1a76f6f-3392-4b17-b764-626d31e6a540",
        "colab": {
          "base_uri": "https://localhost:8080/",
          "height": 1000
        }
      },
      "outputs": [
        {
          "output_type": "display_data",
          "data": {
            "text/plain": [
              "\u001b[92m──────────────────────────────────────────── \u001b[0mFloorplan Initialization\u001b[92m ─────────────────────────────────────────────\u001b[0m\n"
            ],
            "text/html": [
              "<pre style=\"white-space:pre;overflow-x:auto;line-height:normal;font-family:Menlo,'DejaVu Sans Mono',consolas,'Courier New',monospace\"><span style=\"color: #00ff00; text-decoration-color: #00ff00\">──────────────────────────────────────────── </span>Floorplan Initialization<span style=\"color: #00ff00; text-decoration-color: #00ff00\"> ─────────────────────────────────────────────</span>\n",
              "</pre>\n"
            ]
          },
          "metadata": {}
        },
        {
          "output_type": "display_data",
          "data": {
            "text/plain": [
              "\u001b[2;36m[19:52:07]\u001b[0m\u001b[2;36m \u001b[0mVERBOSE  Running \u001b[32m'OpenROAD.Floorplan'\u001b[0m…                                                      \u001b]8;id=288886;file:///content/openlane_ipynb/openlane/steps/step.py\u001b\\\u001b[2mstep.py\u001b[0m\u001b]8;;\u001b\\\u001b[2m:\u001b[0m\u001b]8;id=495427;file:///content/openlane_ipynb/openlane/steps/step.py#1088\u001b\\\u001b[2m1088\u001b[0m\u001b]8;;\u001b\\\n"
            ],
            "text/html": [
              "<pre style=\"white-space:pre;overflow-x:auto;line-height:normal;font-family:Menlo,'DejaVu Sans Mono',consolas,'Courier New',monospace\"><span style=\"color: #7fbfbf; text-decoration-color: #7fbfbf\">[19:52:07] </span>VERBOSE  Running <span style=\"color: #008000; text-decoration-color: #008000\">'OpenROAD.Floorplan'</span>…                                                      <a href=\"file:///content/openlane_ipynb/openlane/steps/step.py\" target=\"_blank\"><span style=\"color: #7f7f7f; text-decoration-color: #7f7f7f\">step.py</span></a><span style=\"color: #7f7f7f; text-decoration-color: #7f7f7f\">:</span><a href=\"file:///content/openlane_ipynb/openlane/steps/step.py#1088\" target=\"_blank\"><span style=\"color: #7f7f7f; text-decoration-color: #7f7f7f\">1088</span></a>\n",
              "</pre>\n"
            ]
          },
          "metadata": {}
        },
        {
          "output_type": "display_data",
          "data": {
            "text/plain": [
              "\u001b[2;36m[19:52:07]\u001b[0m\u001b[2;36m \u001b[0mVERBOSE  Logging subprocess to \u001b]8;id=563554;file:///content/openlane_run/6-openroad-floorplan/openroad-floorplan.log\u001b\\\u001b[95mopenlane_run/\u001b[0m\u001b]8;;\u001b\\\u001b]8;id=467520;file:///content/openlane_run/6-openroad-floorplan/openroad-floorplan.log\u001b\\\u001b[1;36m6\u001b[0m\u001b]8;;\u001b\\\u001b]8;id=563554;file:///content/openlane_run/6-openroad-floorplan/openroad-floorplan.log\u001b\\\u001b[95m-openroad-floorplan/openroad-floorplan.log\u001b[0m\u001b]8;;\u001b\\…    \u001b]8;id=86443;file:///content/openlane_ipynb/openlane/steps/step.py\u001b\\\u001b[2mstep.py\u001b[0m\u001b]8;;\u001b\\\u001b[2m:\u001b[0m\u001b]8;id=603444;file:///content/openlane_ipynb/openlane/steps/step.py#1268\u001b\\\u001b[2m1268\u001b[0m\u001b]8;;\u001b\\\n"
            ],
            "text/html": [
              "<pre style=\"white-space:pre;overflow-x:auto;line-height:normal;font-family:Menlo,'DejaVu Sans Mono',consolas,'Courier New',monospace\"><span style=\"color: #7fbfbf; text-decoration-color: #7fbfbf\">[19:52:07] </span>VERBOSE  Logging subprocess to <a href=\"file:///content/openlane_run/6-openroad-floorplan/openroad-floorplan.log\" target=\"_blank\"><span style=\"color: #ff00ff; text-decoration-color: #ff00ff\">openlane_run/</span></a><a href=\"file:///content/openlane_run/6-openroad-floorplan/openroad-floorplan.log\" target=\"_blank\"><span style=\"color: #008080; text-decoration-color: #008080; font-weight: bold\">6</span></a><a href=\"file:///content/openlane_run/6-openroad-floorplan/openroad-floorplan.log\" target=\"_blank\"><span style=\"color: #ff00ff; text-decoration-color: #ff00ff\">-openroad-floorplan/openroad-floorplan.log</span></a>…    <a href=\"file:///content/openlane_ipynb/openlane/steps/step.py\" target=\"_blank\"><span style=\"color: #7f7f7f; text-decoration-color: #7f7f7f\">step.py</span></a><span style=\"color: #7f7f7f; text-decoration-color: #7f7f7f\">:</span><a href=\"file:///content/openlane_ipynb/openlane/steps/step.py#1268\" target=\"_blank\"><span style=\"color: #7f7f7f; text-decoration-color: #7f7f7f\">1268</span></a>\n",
              "</pre>\n"
            ]
          },
          "metadata": {}
        },
        {
          "output_type": "display_data",
          "data": {
            "text/plain": [
              "Reading library file at \u001b[32m'/root/.volare/sky130A/libs.ref/sky130_fd_sc_hd/lib/sky130_fd_sc_hd__tt_025C_1v80.lib'\u001b[0m…    \n"
            ],
            "text/html": [
              "<pre style=\"white-space:pre;overflow-x:auto;line-height:normal;font-family:Menlo,'DejaVu Sans Mono',consolas,'Courier New',monospace\">Reading library file at <span style=\"color: #008000; text-decoration-color: #008000\">'/root/.volare/sky130A/libs.ref/sky130_fd_sc_hd/lib/sky130_fd_sc_hd__tt_025C_1v80.lib'</span>…    \n",
              "</pre>\n"
            ]
          },
          "metadata": {}
        },
        {
          "output_type": "display_data",
          "data": {
            "text/plain": [
              "Reading technology LEF file at \u001b[32m'/root/.volare/sky130A/libs.ref/sky130_fd_sc_hd/techlef/sky130_fd_sc_hd__nom.tlef'\u001b[0m… \n"
            ],
            "text/html": [
              "<pre style=\"white-space:pre;overflow-x:auto;line-height:normal;font-family:Menlo,'DejaVu Sans Mono',consolas,'Courier New',monospace\">Reading technology LEF file at <span style=\"color: #008000; text-decoration-color: #008000\">'/root/.volare/sky130A/libs.ref/sky130_fd_sc_hd/techlef/sky130_fd_sc_hd__nom.tlef'</span>… \n",
              "</pre>\n"
            ]
          },
          "metadata": {}
        },
        {
          "output_type": "display_data",
          "data": {
            "text/plain": [
              "\u001b[1m[\u001b[0mINFO ODB-\u001b[1;36m0227\u001b[0m\u001b[1m]\u001b[0m LEF file: \u001b[35m/root/.volare/sky130A/libs.ref/sky130_fd_sc_hd/techlef/\u001b[0m\u001b[95msky130_fd_sc_hd__nom.tlef\u001b[0m, created\n",
              "\u001b[1;36m13\u001b[0m layers, \u001b[1;36m25\u001b[0m vias                                                                                                 \n"
            ],
            "text/html": [
              "<pre style=\"white-space:pre;overflow-x:auto;line-height:normal;font-family:Menlo,'DejaVu Sans Mono',consolas,'Courier New',monospace\"><span style=\"font-weight: bold\">[</span>INFO ODB-<span style=\"color: #008080; text-decoration-color: #008080; font-weight: bold\">0227</span><span style=\"font-weight: bold\">]</span> LEF file: <span style=\"color: #800080; text-decoration-color: #800080\">/root/.volare/sky130A/libs.ref/sky130_fd_sc_hd/techlef/</span><span style=\"color: #ff00ff; text-decoration-color: #ff00ff\">sky130_fd_sc_hd__nom.tlef</span>, created\n",
              "<span style=\"color: #008080; text-decoration-color: #008080; font-weight: bold\">13</span> layers, <span style=\"color: #008080; text-decoration-color: #008080; font-weight: bold\">25</span> vias                                                                                                 \n",
              "</pre>\n"
            ]
          },
          "metadata": {}
        },
        {
          "output_type": "display_data",
          "data": {
            "text/plain": [
              "Reading cell LEF file at \u001b[32m'/root/.volare/sky130A/libs.ref/sky130_fd_sc_hd/lef/sky130_fd_sc_hd.lef'\u001b[0m…                 \n"
            ],
            "text/html": [
              "<pre style=\"white-space:pre;overflow-x:auto;line-height:normal;font-family:Menlo,'DejaVu Sans Mono',consolas,'Courier New',monospace\">Reading cell LEF file at <span style=\"color: #008000; text-decoration-color: #008000\">'/root/.volare/sky130A/libs.ref/sky130_fd_sc_hd/lef/sky130_fd_sc_hd.lef'</span>…                 \n",
              "</pre>\n"
            ]
          },
          "metadata": {}
        },
        {
          "output_type": "display_data",
          "data": {
            "text/plain": [
              "The NOWIREEXTENSIONATPIN statement will be ignored. See file                                                       \n",
              "\u001b[35m/root/.volare/sky130A/libs.ref/sky130_fd_sc_hd/lef/\u001b[0m\u001b[95msky130_fd_sc_hd.lef\u001b[0m at line \u001b[1;36m2\u001b[0m.                                  \n"
            ],
            "text/html": [
              "<pre style=\"white-space:pre;overflow-x:auto;line-height:normal;font-family:Menlo,'DejaVu Sans Mono',consolas,'Courier New',monospace\">The NOWIREEXTENSIONATPIN statement will be ignored. See file                                                       \n",
              "<span style=\"color: #800080; text-decoration-color: #800080\">/root/.volare/sky130A/libs.ref/sky130_fd_sc_hd/lef/</span><span style=\"color: #ff00ff; text-decoration-color: #ff00ff\">sky130_fd_sc_hd.lef</span> at line <span style=\"color: #008080; text-decoration-color: #008080; font-weight: bold\">2</span>.                                  \n",
              "</pre>\n"
            ]
          },
          "metadata": {}
        },
        {
          "output_type": "display_data",
          "data": {
            "text/plain": [
              "                                                                                                                   \n"
            ],
            "text/html": [
              "<pre style=\"white-space:pre;overflow-x:auto;line-height:normal;font-family:Menlo,'DejaVu Sans Mono',consolas,'Courier New',monospace\">                                                                                                                   \n",
              "</pre>\n"
            ]
          },
          "metadata": {}
        },
        {
          "output_type": "display_data",
          "data": {
            "text/plain": [
              "\u001b[1m[\u001b[0mINFO ODB-\u001b[1;36m0227\u001b[0m\u001b[1m]\u001b[0m LEF file: \u001b[35m/root/.volare/sky130A/libs.ref/sky130_fd_sc_hd/lef/\u001b[0m\u001b[95msky130_fd_sc_hd.lef\u001b[0m, created \u001b[1;36m437\u001b[0m      \n",
              "library cells                                                                                                      \n"
            ],
            "text/html": [
              "<pre style=\"white-space:pre;overflow-x:auto;line-height:normal;font-family:Menlo,'DejaVu Sans Mono',consolas,'Courier New',monospace\"><span style=\"font-weight: bold\">[</span>INFO ODB-<span style=\"color: #008080; text-decoration-color: #008080; font-weight: bold\">0227</span><span style=\"font-weight: bold\">]</span> LEF file: <span style=\"color: #800080; text-decoration-color: #800080\">/root/.volare/sky130A/libs.ref/sky130_fd_sc_hd/lef/</span><span style=\"color: #ff00ff; text-decoration-color: #ff00ff\">sky130_fd_sc_hd.lef</span>, created <span style=\"color: #008080; text-decoration-color: #008080; font-weight: bold\">437</span>      \n",
              "library cells                                                                                                      \n",
              "</pre>\n"
            ]
          },
          "metadata": {}
        },
        {
          "output_type": "display_data",
          "data": {
            "text/plain": [
              "Reading cell LEF file at \u001b[32m'/root/.volare/sky130A/libs.ref/sky130_fd_sc_hd/lef/sky130_ef_sc_hd.lef'\u001b[0m…                 \n"
            ],
            "text/html": [
              "<pre style=\"white-space:pre;overflow-x:auto;line-height:normal;font-family:Menlo,'DejaVu Sans Mono',consolas,'Courier New',monospace\">Reading cell LEF file at <span style=\"color: #008000; text-decoration-color: #008000\">'/root/.volare/sky130A/libs.ref/sky130_fd_sc_hd/lef/sky130_ef_sc_hd.lef'</span>…                 \n",
              "</pre>\n"
            ]
          },
          "metadata": {}
        },
        {
          "output_type": "display_data",
          "data": {
            "text/plain": [
              "The NOWIREEXTENSIONATPIN statement will be ignored. See file                                                       \n",
              "\u001b[35m/root/.volare/sky130A/libs.ref/sky130_fd_sc_hd/lef/\u001b[0m\u001b[95msky130_ef_sc_hd.lef\u001b[0m at line \u001b[1;36m2\u001b[0m.                                  \n"
            ],
            "text/html": [
              "<pre style=\"white-space:pre;overflow-x:auto;line-height:normal;font-family:Menlo,'DejaVu Sans Mono',consolas,'Courier New',monospace\">The NOWIREEXTENSIONATPIN statement will be ignored. See file                                                       \n",
              "<span style=\"color: #800080; text-decoration-color: #800080\">/root/.volare/sky130A/libs.ref/sky130_fd_sc_hd/lef/</span><span style=\"color: #ff00ff; text-decoration-color: #ff00ff\">sky130_ef_sc_hd.lef</span> at line <span style=\"color: #008080; text-decoration-color: #008080; font-weight: bold\">2</span>.                                  \n",
              "</pre>\n"
            ]
          },
          "metadata": {}
        },
        {
          "output_type": "display_data",
          "data": {
            "text/plain": [
              "                                                                                                                   \n"
            ],
            "text/html": [
              "<pre style=\"white-space:pre;overflow-x:auto;line-height:normal;font-family:Menlo,'DejaVu Sans Mono',consolas,'Courier New',monospace\">                                                                                                                   \n",
              "</pre>\n"
            ]
          },
          "metadata": {}
        },
        {
          "output_type": "display_data",
          "data": {
            "text/plain": [
              "\u001b[1m[\u001b[0mINFO ODB-\u001b[1;36m0227\u001b[0m\u001b[1m]\u001b[0m LEF file: \u001b[35m/root/.volare/sky130A/libs.ref/sky130_fd_sc_hd/lef/\u001b[0m\u001b[95msky130_ef_sc_hd.lef\u001b[0m, created \u001b[1;36m4\u001b[0m library\n",
              "cells                                                                                                              \n"
            ],
            "text/html": [
              "<pre style=\"white-space:pre;overflow-x:auto;line-height:normal;font-family:Menlo,'DejaVu Sans Mono',consolas,'Courier New',monospace\"><span style=\"font-weight: bold\">[</span>INFO ODB-<span style=\"color: #008080; text-decoration-color: #008080; font-weight: bold\">0227</span><span style=\"font-weight: bold\">]</span> LEF file: <span style=\"color: #800080; text-decoration-color: #800080\">/root/.volare/sky130A/libs.ref/sky130_fd_sc_hd/lef/</span><span style=\"color: #ff00ff; text-decoration-color: #ff00ff\">sky130_ef_sc_hd.lef</span>, created <span style=\"color: #008080; text-decoration-color: #008080; font-weight: bold\">4</span> library\n",
              "cells                                                                                                              \n",
              "</pre>\n"
            ]
          },
          "metadata": {}
        },
        {
          "output_type": "display_data",
          "data": {
            "text/plain": [
              "Reading top-level netlist at \u001b[32m'/content/openlane_run/1-yosys-synthesis/spm.nl.v'\u001b[0m…                                   \n"
            ],
            "text/html": [
              "<pre style=\"white-space:pre;overflow-x:auto;line-height:normal;font-family:Menlo,'DejaVu Sans Mono',consolas,'Courier New',monospace\">Reading top-level netlist at <span style=\"color: #008000; text-decoration-color: #008000\">'/content/openlane_run/1-yosys-synthesis/spm.nl.v'</span>…                                   \n",
              "</pre>\n"
            ]
          },
          "metadata": {}
        },
        {
          "output_type": "display_data",
          "data": {
            "text/plain": [
              "Linking design \u001b[32m'spm'\u001b[0m from netlist…                                                                                 \n"
            ],
            "text/html": [
              "<pre style=\"white-space:pre;overflow-x:auto;line-height:normal;font-family:Menlo,'DejaVu Sans Mono',consolas,'Courier New',monospace\">Linking design <span style=\"color: #008000; text-decoration-color: #008000\">'spm'</span> from netlist…                                                                                 \n",
              "</pre>\n"
            ]
          },
          "metadata": {}
        },
        {
          "output_type": "display_data",
          "data": {
            "text/plain": [
              "Reading design constraints file at \u001b[32m'/content/openlane_ipynb/openlane/scripts/base.sdc'\u001b[0m…                            \n"
            ],
            "text/html": [
              "<pre style=\"white-space:pre;overflow-x:auto;line-height:normal;font-family:Menlo,'DejaVu Sans Mono',consolas,'Courier New',monospace\">Reading design constraints file at <span style=\"color: #008000; text-decoration-color: #008000\">'/content/openlane_ipynb/openlane/scripts/base.sdc'</span>…                            \n",
              "</pre>\n"
            ]
          },
          "metadata": {}
        },
        {
          "output_type": "display_data",
          "data": {
            "text/plain": [
              "\u001b[1m[\u001b[0mINFO\u001b[1m]\u001b[0m Using clock clk…                                                                                            \n"
            ],
            "text/html": [
              "<pre style=\"white-space:pre;overflow-x:auto;line-height:normal;font-family:Menlo,'DejaVu Sans Mono',consolas,'Courier New',monospace\"><span style=\"font-weight: bold\">[</span>INFO<span style=\"font-weight: bold\">]</span> Using clock clk…                                                                                            \n",
              "</pre>\n"
            ]
          },
          "metadata": {}
        },
        {
          "output_type": "display_data",
          "data": {
            "text/plain": [
              "\u001b[1m[\u001b[0mINFO\u001b[1m]\u001b[0m Setting output delay to: \u001b[1;36m2\u001b[0m                                                                                  \n"
            ],
            "text/html": [
              "<pre style=\"white-space:pre;overflow-x:auto;line-height:normal;font-family:Menlo,'DejaVu Sans Mono',consolas,'Courier New',monospace\"><span style=\"font-weight: bold\">[</span>INFO<span style=\"font-weight: bold\">]</span> Setting output delay to: <span style=\"color: #008080; text-decoration-color: #008080; font-weight: bold\">2</span>                                                                                  \n",
              "</pre>\n"
            ]
          },
          "metadata": {}
        },
        {
          "output_type": "display_data",
          "data": {
            "text/plain": [
              "\u001b[1m[\u001b[0mINFO\u001b[1m]\u001b[0m Setting input delay to: \u001b[1;36m2\u001b[0m                                                                                   \n"
            ],
            "text/html": [
              "<pre style=\"white-space:pre;overflow-x:auto;line-height:normal;font-family:Menlo,'DejaVu Sans Mono',consolas,'Courier New',monospace\"><span style=\"font-weight: bold\">[</span>INFO<span style=\"font-weight: bold\">]</span> Setting input delay to: <span style=\"color: #008080; text-decoration-color: #008080; font-weight: bold\">2</span>                                                                                   \n",
              "</pre>\n"
            ]
          },
          "metadata": {}
        },
        {
          "output_type": "display_data",
          "data": {
            "text/plain": [
              "\u001b[1m[\u001b[0mINFO\u001b[1m]\u001b[0m Setting load to: \u001b[1;36m0.033442\u001b[0m                                                                                   \n"
            ],
            "text/html": [
              "<pre style=\"white-space:pre;overflow-x:auto;line-height:normal;font-family:Menlo,'DejaVu Sans Mono',consolas,'Courier New',monospace\"><span style=\"font-weight: bold\">[</span>INFO<span style=\"font-weight: bold\">]</span> Setting load to: <span style=\"color: #008080; text-decoration-color: #008080; font-weight: bold\">0.033442</span>                                                                                   \n",
              "</pre>\n"
            ]
          },
          "metadata": {}
        },
        {
          "output_type": "display_data",
          "data": {
            "text/plain": [
              "\u001b[1m[\u001b[0mINFO\u001b[1m]\u001b[0m Setting clock uncertainty to: \u001b[1;36m0.25\u001b[0m                                                                          \n"
            ],
            "text/html": [
              "<pre style=\"white-space:pre;overflow-x:auto;line-height:normal;font-family:Menlo,'DejaVu Sans Mono',consolas,'Courier New',monospace\"><span style=\"font-weight: bold\">[</span>INFO<span style=\"font-weight: bold\">]</span> Setting clock uncertainty to: <span style=\"color: #008080; text-decoration-color: #008080; font-weight: bold\">0.25</span>                                                                          \n",
              "</pre>\n"
            ]
          },
          "metadata": {}
        },
        {
          "output_type": "display_data",
          "data": {
            "text/plain": [
              "\u001b[1m[\u001b[0mINFO\u001b[1m]\u001b[0m Setting clock transition to: \u001b[1;36m0.1499999999999999944488848768742172978818416595458984375\u001b[0m                      \n"
            ],
            "text/html": [
              "<pre style=\"white-space:pre;overflow-x:auto;line-height:normal;font-family:Menlo,'DejaVu Sans Mono',consolas,'Courier New',monospace\"><span style=\"font-weight: bold\">[</span>INFO<span style=\"font-weight: bold\">]</span> Setting clock transition to: <span style=\"color: #008080; text-decoration-color: #008080; font-weight: bold\">0.1499999999999999944488848768742172978818416595458984375</span>                      \n",
              "</pre>\n"
            ]
          },
          "metadata": {}
        },
        {
          "output_type": "display_data",
          "data": {
            "text/plain": [
              "\u001b[1m[\u001b[0mINFO\u001b[1m]\u001b[0m Setting timing derate to: \u001b[1;36m5\u001b[0m%                                                                                \n"
            ],
            "text/html": [
              "<pre style=\"white-space:pre;overflow-x:auto;line-height:normal;font-family:Menlo,'DejaVu Sans Mono',consolas,'Courier New',monospace\"><span style=\"font-weight: bold\">[</span>INFO<span style=\"font-weight: bold\">]</span> Setting timing derate to: <span style=\"color: #008080; text-decoration-color: #008080; font-weight: bold\">5</span>%                                                                                \n",
              "</pre>\n"
            ]
          },
          "metadata": {}
        },
        {
          "output_type": "display_data",
          "data": {
            "text/plain": [
              "Using site height: \u001b[1;36m2.72\u001b[0m and site width: \u001b[1;36m0.46\u001b[0m…                                                                      \n"
            ],
            "text/html": [
              "<pre style=\"white-space:pre;overflow-x:auto;line-height:normal;font-family:Menlo,'DejaVu Sans Mono',consolas,'Courier New',monospace\">Using site height: <span style=\"color: #008080; text-decoration-color: #008080; font-weight: bold\">2.72</span> and site width: <span style=\"color: #008080; text-decoration-color: #008080; font-weight: bold\">0.46</span>…                                                                      \n",
              "</pre>\n"
            ]
          },
          "metadata": {}
        },
        {
          "output_type": "display_data",
          "data": {
            "text/plain": [
              "\u001b[1m[\u001b[0mINFO\u001b[1m]\u001b[0m Using relative sizing for the floorplan.                                                                    \n"
            ],
            "text/html": [
              "<pre style=\"white-space:pre;overflow-x:auto;line-height:normal;font-family:Menlo,'DejaVu Sans Mono',consolas,'Courier New',monospace\"><span style=\"font-weight: bold\">[</span>INFO<span style=\"font-weight: bold\">]</span> Using relative sizing for the floorplan.                                                                    \n",
              "</pre>\n"
            ]
          },
          "metadata": {}
        },
        {
          "output_type": "display_data",
          "data": {
            "text/plain": [
              "\u001b[1m[\u001b[0mINFO IFP-\u001b[1;36m0001\u001b[0m\u001b[1m]\u001b[0m Added \u001b[1;36m31\u001b[0m rows of \u001b[1;36m185\u001b[0m site unithd.                                                                  \n"
            ],
            "text/html": [
              "<pre style=\"white-space:pre;overflow-x:auto;line-height:normal;font-family:Menlo,'DejaVu Sans Mono',consolas,'Courier New',monospace\"><span style=\"font-weight: bold\">[</span>INFO IFP-<span style=\"color: #008080; text-decoration-color: #008080; font-weight: bold\">0001</span><span style=\"font-weight: bold\">]</span> Added <span style=\"color: #008080; text-decoration-color: #008080; font-weight: bold\">31</span> rows of <span style=\"color: #008080; text-decoration-color: #008080; font-weight: bold\">185</span> site unithd.                                                                  \n",
              "</pre>\n"
            ]
          },
          "metadata": {}
        },
        {
          "output_type": "display_data",
          "data": {
            "text/plain": [
              "\u001b[1m[\u001b[0mINFO IFP-\u001b[1;36m0030\u001b[0m\u001b[1m]\u001b[0m Inserted \u001b[1;36m0\u001b[0m tiecells using sky130_fd_sc_hd__conb_1/LO.                                              \n"
            ],
            "text/html": [
              "<pre style=\"white-space:pre;overflow-x:auto;line-height:normal;font-family:Menlo,'DejaVu Sans Mono',consolas,'Courier New',monospace\"><span style=\"font-weight: bold\">[</span>INFO IFP-<span style=\"color: #008080; text-decoration-color: #008080; font-weight: bold\">0030</span><span style=\"font-weight: bold\">]</span> Inserted <span style=\"color: #008080; text-decoration-color: #008080; font-weight: bold\">0</span> tiecells using sky130_fd_sc_hd__conb_1/LO.                                              \n",
              "</pre>\n"
            ]
          },
          "metadata": {}
        },
        {
          "output_type": "display_data",
          "data": {
            "text/plain": [
              "\u001b[1m[\u001b[0mINFO IFP-\u001b[1;36m0030\u001b[0m\u001b[1m]\u001b[0m Inserted \u001b[1;36m0\u001b[0m tiecells using sky130_fd_sc_hd__conb_1/HI.                                              \n"
            ],
            "text/html": [
              "<pre style=\"white-space:pre;overflow-x:auto;line-height:normal;font-family:Menlo,'DejaVu Sans Mono',consolas,'Courier New',monospace\"><span style=\"font-weight: bold\">[</span>INFO IFP-<span style=\"color: #008080; text-decoration-color: #008080; font-weight: bold\">0030</span><span style=\"font-weight: bold\">]</span> Inserted <span style=\"color: #008080; text-decoration-color: #008080; font-weight: bold\">0</span> tiecells using sky130_fd_sc_hd__conb_1/HI.                                              \n",
              "</pre>\n"
            ]
          },
          "metadata": {}
        },
        {
          "output_type": "display_data",
          "data": {
            "text/plain": [
              "\u001b[1m[\u001b[0mINFO\u001b[1m]\u001b[0m Extracting DIE_AREA and CORE_AREA from the floorplan                                                        \n"
            ],
            "text/html": [
              "<pre style=\"white-space:pre;overflow-x:auto;line-height:normal;font-family:Menlo,'DejaVu Sans Mono',consolas,'Courier New',monospace\"><span style=\"font-weight: bold\">[</span>INFO<span style=\"font-weight: bold\">]</span> Extracting DIE_AREA and CORE_AREA from the floorplan                                                        \n",
              "</pre>\n"
            ]
          },
          "metadata": {}
        },
        {
          "output_type": "display_data",
          "data": {
            "text/plain": [
              "\u001b[1m[\u001b[0mINFO\u001b[1m]\u001b[0m Floorplanned on a die area of \u001b[1;36m0.0\u001b[0m \u001b[1;36m0.0\u001b[0m \u001b[1;36m96.535\u001b[0m \u001b[1;36m107.255\u001b[0m \u001b[1m(\u001b[0mµm\u001b[1m)\u001b[0m.                                                  \n"
            ],
            "text/html": [
              "<pre style=\"white-space:pre;overflow-x:auto;line-height:normal;font-family:Menlo,'DejaVu Sans Mono',consolas,'Courier New',monospace\"><span style=\"font-weight: bold\">[</span>INFO<span style=\"font-weight: bold\">]</span> Floorplanned on a die area of <span style=\"color: #008080; text-decoration-color: #008080; font-weight: bold\">0.0</span> <span style=\"color: #008080; text-decoration-color: #008080; font-weight: bold\">0.0</span> <span style=\"color: #008080; text-decoration-color: #008080; font-weight: bold\">96.535</span> <span style=\"color: #008080; text-decoration-color: #008080; font-weight: bold\">107.255</span> <span style=\"font-weight: bold\">(</span>µm<span style=\"font-weight: bold\">)</span>.                                                  \n",
              "</pre>\n"
            ]
          },
          "metadata": {}
        },
        {
          "output_type": "display_data",
          "data": {
            "text/plain": [
              "\u001b[1m[\u001b[0mINFO\u001b[1m]\u001b[0m Floorplanned on a core area of \u001b[1;36m5.52\u001b[0m \u001b[1;36m10.88\u001b[0m \u001b[1;36m90.62\u001b[0m \u001b[1;36m95.2\u001b[0m \u001b[1m(\u001b[0mµm\u001b[1m)\u001b[0m.                                                  \n"
            ],
            "text/html": [
              "<pre style=\"white-space:pre;overflow-x:auto;line-height:normal;font-family:Menlo,'DejaVu Sans Mono',consolas,'Courier New',monospace\"><span style=\"font-weight: bold\">[</span>INFO<span style=\"font-weight: bold\">]</span> Floorplanned on a core area of <span style=\"color: #008080; text-decoration-color: #008080; font-weight: bold\">5.52</span> <span style=\"color: #008080; text-decoration-color: #008080; font-weight: bold\">10.88</span> <span style=\"color: #008080; text-decoration-color: #008080; font-weight: bold\">90.62</span> <span style=\"color: #008080; text-decoration-color: #008080; font-weight: bold\">95.2</span> <span style=\"font-weight: bold\">(</span>µm<span style=\"font-weight: bold\">)</span>.                                                  \n",
              "</pre>\n"
            ]
          },
          "metadata": {}
        },
        {
          "output_type": "display_data",
          "data": {
            "text/plain": [
              "Writing metric design__die__bbox: \u001b[1;36m0.0\u001b[0m \u001b[1;36m0.0\u001b[0m \u001b[1;36m96.535\u001b[0m \u001b[1;36m107.255\u001b[0m                                                           \n"
            ],
            "text/html": [
              "<pre style=\"white-space:pre;overflow-x:auto;line-height:normal;font-family:Menlo,'DejaVu Sans Mono',consolas,'Courier New',monospace\">Writing metric design__die__bbox: <span style=\"color: #008080; text-decoration-color: #008080; font-weight: bold\">0.0</span> <span style=\"color: #008080; text-decoration-color: #008080; font-weight: bold\">0.0</span> <span style=\"color: #008080; text-decoration-color: #008080; font-weight: bold\">96.535</span> <span style=\"color: #008080; text-decoration-color: #008080; font-weight: bold\">107.255</span>                                                           \n",
              "</pre>\n"
            ]
          },
          "metadata": {}
        },
        {
          "output_type": "display_data",
          "data": {
            "text/plain": [
              "Writing metric design__core__bbox: \u001b[1;36m5.52\u001b[0m \u001b[1;36m10.88\u001b[0m \u001b[1;36m90.62\u001b[0m \u001b[1;36m95.2\u001b[0m                                                           \n"
            ],
            "text/html": [
              "<pre style=\"white-space:pre;overflow-x:auto;line-height:normal;font-family:Menlo,'DejaVu Sans Mono',consolas,'Courier New',monospace\">Writing metric design__core__bbox: <span style=\"color: #008080; text-decoration-color: #008080; font-weight: bold\">5.52</span> <span style=\"color: #008080; text-decoration-color: #008080; font-weight: bold\">10.88</span> <span style=\"color: #008080; text-decoration-color: #008080; font-weight: bold\">90.62</span> <span style=\"color: #008080; text-decoration-color: #008080; font-weight: bold\">95.2</span>                                                           \n",
              "</pre>\n"
            ]
          },
          "metadata": {}
        },
        {
          "output_type": "display_data",
          "data": {
            "text/plain": [
              "Setting global connections for newly added cells…                                                                  \n"
            ],
            "text/html": [
              "<pre style=\"white-space:pre;overflow-x:auto;line-height:normal;font-family:Menlo,'DejaVu Sans Mono',consolas,'Courier New',monospace\">Setting global connections for newly added cells…                                                                  \n",
              "</pre>\n"
            ]
          },
          "metadata": {}
        },
        {
          "output_type": "display_data",
          "data": {
            "text/plain": [
              "\u001b[1m[\u001b[0mINFO\u001b[1m]\u001b[0m Setting global connections\u001b[33m...\u001b[0m                                                                               \n"
            ],
            "text/html": [
              "<pre style=\"white-space:pre;overflow-x:auto;line-height:normal;font-family:Menlo,'DejaVu Sans Mono',consolas,'Courier New',monospace\"><span style=\"font-weight: bold\">[</span>INFO<span style=\"font-weight: bold\">]</span> Setting global connections<span style=\"color: #808000; text-decoration-color: #808000\">...</span>                                                                               \n",
              "</pre>\n"
            ]
          },
          "metadata": {}
        },
        {
          "output_type": "display_data",
          "data": {
            "text/plain": [
              "Writing OpenROAD database to \u001b[32m'/content/openlane_run/6-openroad-floorplan/spm.odb'\u001b[0m…                                 \n"
            ],
            "text/html": [
              "<pre style=\"white-space:pre;overflow-x:auto;line-height:normal;font-family:Menlo,'DejaVu Sans Mono',consolas,'Courier New',monospace\">Writing OpenROAD database to <span style=\"color: #008000; text-decoration-color: #008000\">'/content/openlane_run/6-openroad-floorplan/spm.odb'</span>…                                 \n",
              "</pre>\n"
            ]
          },
          "metadata": {}
        },
        {
          "output_type": "display_data",
          "data": {
            "text/plain": [
              "Writing netlist to \u001b[32m'/content/openlane_run/6-openroad-floorplan/spm.nl.v'\u001b[0m…                                          \n"
            ],
            "text/html": [
              "<pre style=\"white-space:pre;overflow-x:auto;line-height:normal;font-family:Menlo,'DejaVu Sans Mono',consolas,'Courier New',monospace\">Writing netlist to <span style=\"color: #008000; text-decoration-color: #008000\">'/content/openlane_run/6-openroad-floorplan/spm.nl.v'</span>…                                          \n",
              "</pre>\n"
            ]
          },
          "metadata": {}
        },
        {
          "output_type": "display_data",
          "data": {
            "text/plain": [
              "Writing powered netlist to \u001b[32m'/content/openlane_run/6-openroad-floorplan/spm.pnl.v'\u001b[0m…                                 \n"
            ],
            "text/html": [
              "<pre style=\"white-space:pre;overflow-x:auto;line-height:normal;font-family:Menlo,'DejaVu Sans Mono',consolas,'Courier New',monospace\">Writing powered netlist to <span style=\"color: #008000; text-decoration-color: #008000\">'/content/openlane_run/6-openroad-floorplan/spm.pnl.v'</span>…                                 \n",
              "</pre>\n"
            ]
          },
          "metadata": {}
        },
        {
          "output_type": "display_data",
          "data": {
            "text/plain": [
              "Writing layout to \u001b[32m'/content/openlane_run/6-openroad-floorplan/spm.def'\u001b[0m…                                            \n"
            ],
            "text/html": [
              "<pre style=\"white-space:pre;overflow-x:auto;line-height:normal;font-family:Menlo,'DejaVu Sans Mono',consolas,'Courier New',monospace\">Writing layout to <span style=\"color: #008000; text-decoration-color: #008000\">'/content/openlane_run/6-openroad-floorplan/spm.def'</span>…                                            \n",
              "</pre>\n"
            ]
          },
          "metadata": {}
        },
        {
          "output_type": "display_data",
          "data": {
            "text/plain": [
              "Writing timing constraints to \u001b[32m'/content/openlane_run/6-openroad-floorplan/spm.sdc'\u001b[0m…                                \n"
            ],
            "text/html": [
              "<pre style=\"white-space:pre;overflow-x:auto;line-height:normal;font-family:Menlo,'DejaVu Sans Mono',consolas,'Courier New',monospace\">Writing timing constraints to <span style=\"color: #008000; text-decoration-color: #008000\">'/content/openlane_run/6-openroad-floorplan/spm.sdc'</span>…                                \n",
              "</pre>\n"
            ]
          },
          "metadata": {}
        },
        {
          "output_type": "execute_result",
          "data": {
            "text/plain": [
              "{'nl': Path('/content/openlane_run/6-openroad-floorplan/spm.nl.v'), 'pnl': Path('/content/openlane_run/6-openroad-floorplan/spm.pnl.v'), 'pnl-sdf-friendly': None, 'pnl-npc': None, 'def': Path('/content/openlane_run/6-openroad-floorplan/spm.def'), 'lef': None, 'openroad-lef': None, 'odb': Path('/content/openlane_run/6-openroad-floorplan/spm.odb'), 'sdc': Path('/content/openlane_run/6-openroad-floorplan/spm.sdc'), 'sdf': None, 'spef': None, 'lib': None, 'spice': None, 'mag': None, 'gds': None, 'mag_gds': None, 'klayout_gds': None, 'json_h': None, 'vh': None, 'metrics': {'design__instance__count': 286, 'design__instance__area': Decimal('3654.755200'), 'design__instance_unmapped__count': 0, 'synthesis__check_error__count': 0, 'design__die__bbox': '0.0 0.0 96.535 107.255', 'design__core__bbox': '5.52 10.88 90.62 95.2', 'flow__warnings__count': 2, 'flow__errors__count': 0}}"
            ],
            "text/html": [
              "<div style=\"display: grid; grid-auto-columns: minmax(0, 1fr); grid-auto-rows: minmax(0, 1fr); grid-auto-flow: column;\">\n",
              "        <table style=\"grid-column-start: 1; grid-column-end: 2; \">\n",
              "        \n",
              "                <tr>\n",
              "                    <th style=\"text-align: left;\">Format</th>\n",
              "                    <th style=\"text-align: left;\">Path</th>\n",
              "                </tr>\n",
              "            \n",
              "                <tr>\n",
              "                    <td style=\"text-align: left;\">nl</td>\n",
              "                    <td style=\"text-align: left;\">openlane_run/6-openroad-floorplan/spm.nl.v</td>\n",
              "                </tr>\n",
              "            \n",
              "                <tr>\n",
              "                    <td style=\"text-align: left;\">pnl</td>\n",
              "                    <td style=\"text-align: left;\">openlane_run/6-openroad-floorplan/spm.pnl.v</td>\n",
              "                </tr>\n",
              "            \n",
              "                <tr>\n",
              "                    <td style=\"text-align: left;\">def</td>\n",
              "                    <td style=\"text-align: left;\">openlane_run/6-openroad-floorplan/spm.def</td>\n",
              "                </tr>\n",
              "            \n",
              "                <tr>\n",
              "                    <td style=\"text-align: left;\">odb</td>\n",
              "                    <td style=\"text-align: left;\">openlane_run/6-openroad-floorplan/spm.odb</td>\n",
              "                </tr>\n",
              "            \n",
              "                <tr>\n",
              "                    <td style=\"text-align: left;\">sdc</td>\n",
              "                    <td style=\"text-align: left;\">openlane_run/6-openroad-floorplan/spm.sdc</td>\n",
              "                </tr>\n",
              "            \n",
              "        </table>\n",
              "        </div>"
            ]
          },
          "metadata": {},
          "execution_count": 40
        }
      ],
      "source": [
        "Floorplan = Step.factory.get(\"OpenROAD.Floorplan\")\n",
        "\n",
        "floorplan = Floorplan(state_in=synthesis.state_out)\n",
        "floorplan.start()"
      ]
    },
    {
      "cell_type": "code",
      "execution_count": 41,
      "metadata": {
        "id": "fICvqfC1WGTa",
        "outputId": "898a11f2-52ee-44c8-c13c-ba68a7f4910a",
        "colab": {
          "base_uri": "https://localhost:8080/",
          "height": 1000
        }
      },
      "outputs": [
        {
          "output_type": "display_data",
          "data": {
            "text/plain": [
              "\u001b[92m──────────────────────────────────────────── \u001b[0mRender Image \u001b[1m(\u001b[0mw/ KLayout\u001b[1m)\u001b[0m\u001b[92m ────────────────────────────────────────────\u001b[0m\n"
            ],
            "text/html": [
              "<pre style=\"white-space:pre;overflow-x:auto;line-height:normal;font-family:Menlo,'DejaVu Sans Mono',consolas,'Courier New',monospace\"><span style=\"color: #00ff00; text-decoration-color: #00ff00\">──────────────────────────────────────────── </span>Render Image <span style=\"font-weight: bold\">(</span>w/ KLayout<span style=\"font-weight: bold\">)</span><span style=\"color: #00ff00; text-decoration-color: #00ff00\"> ────────────────────────────────────────────</span>\n",
              "</pre>\n"
            ]
          },
          "metadata": {}
        },
        {
          "output_type": "display_data",
          "data": {
            "text/plain": [
              "\u001b[2;36m[19:52:14]\u001b[0m\u001b[2;36m \u001b[0mVERBOSE  Running \u001b[32m'KLayout.Render'\u001b[0m…                                                          \u001b]8;id=619043;file:///content/openlane_ipynb/openlane/steps/step.py\u001b\\\u001b[2mstep.py\u001b[0m\u001b]8;;\u001b\\\u001b[2m:\u001b[0m\u001b]8;id=172725;file:///content/openlane_ipynb/openlane/steps/step.py#1088\u001b\\\u001b[2m1088\u001b[0m\u001b]8;;\u001b\\\n"
            ],
            "text/html": [
              "<pre style=\"white-space:pre;overflow-x:auto;line-height:normal;font-family:Menlo,'DejaVu Sans Mono',consolas,'Courier New',monospace\"><span style=\"color: #7fbfbf; text-decoration-color: #7fbfbf\">[19:52:14] </span>VERBOSE  Running <span style=\"color: #008000; text-decoration-color: #008000\">'KLayout.Render'</span>…                                                          <a href=\"file:///content/openlane_ipynb/openlane/steps/step.py\" target=\"_blank\"><span style=\"color: #7f7f7f; text-decoration-color: #7f7f7f\">step.py</span></a><span style=\"color: #7f7f7f; text-decoration-color: #7f7f7f\">:</span><a href=\"file:///content/openlane_ipynb/openlane/steps/step.py#1088\" target=\"_blank\"><span style=\"color: #7f7f7f; text-decoration-color: #7f7f7f\">1088</span></a>\n",
              "</pre>\n"
            ]
          },
          "metadata": {}
        },
        {
          "output_type": "display_data",
          "data": {
            "text/plain": [
              "\u001b[2;36m[19:52:14]\u001b[0m\u001b[2;36m \u001b[0mVERBOSE  Logging subprocess to \u001b]8;id=412018;file:///tmp/openlane_klayout_tmp_11el7wky/klayout-render.log\u001b\\\u001b[95m..\u001b[0m\u001b]8;;\u001b\\\u001b]8;id=79899;file:///tmp/openlane_klayout_tmp_11el7wky/klayout-render.log\u001b\\\u001b[35m/tmp/openlane_klayout_tmp_11el7wky/\u001b[0m\u001b]8;;\u001b\\\u001b]8;id=112852;file:///tmp/openlane_klayout_tmp_11el7wky/klayout-render.log\u001b\\\u001b[95mklayout-render.log\u001b[0m\u001b]8;;\u001b\\…     \u001b]8;id=976474;file:///content/openlane_ipynb/openlane/steps/step.py\u001b\\\u001b[2mstep.py\u001b[0m\u001b]8;;\u001b\\\u001b[2m:\u001b[0m\u001b]8;id=72363;file:///content/openlane_ipynb/openlane/steps/step.py#1268\u001b\\\u001b[2m1268\u001b[0m\u001b]8;;\u001b\\\n"
            ],
            "text/html": [
              "<pre style=\"white-space:pre;overflow-x:auto;line-height:normal;font-family:Menlo,'DejaVu Sans Mono',consolas,'Courier New',monospace\"><span style=\"color: #7fbfbf; text-decoration-color: #7fbfbf\">[19:52:14] </span>VERBOSE  Logging subprocess to <a href=\"file:///tmp/openlane_klayout_tmp_11el7wky/klayout-render.log\" target=\"_blank\"><span style=\"color: #ff00ff; text-decoration-color: #ff00ff\">..</span></a><a href=\"file:///tmp/openlane_klayout_tmp_11el7wky/klayout-render.log\" target=\"_blank\"><span style=\"color: #800080; text-decoration-color: #800080\">/tmp/openlane_klayout_tmp_11el7wky/</span></a><a href=\"file:///tmp/openlane_klayout_tmp_11el7wky/klayout-render.log\" target=\"_blank\"><span style=\"color: #ff00ff; text-decoration-color: #ff00ff\">klayout-render.log</span></a>…     <a href=\"file:///content/openlane_ipynb/openlane/steps/step.py\" target=\"_blank\"><span style=\"color: #7f7f7f; text-decoration-color: #7f7f7f\">step.py</span></a><span style=\"color: #7f7f7f; text-decoration-color: #7f7f7f\">:</span><a href=\"file:///content/openlane_ipynb/openlane/steps/step.py#1268\" target=\"_blank\"><span style=\"color: #7f7f7f; text-decoration-color: #7f7f7f\">1268</span></a>\n",
              "</pre>\n"
            ]
          },
          "metadata": {}
        },
        {
          "output_type": "display_data",
          "data": {
            "text/plain": [
              "<openlane.steps.openroad.Floorplan at 0x7bc62bcd9f50>"
            ],
            "text/markdown": "#### Time Elapsed: 0.92s\n#### Views updated:\n* Verilog Netlist\n* Powered Verilog Netlist\n* Design Exchange Format\n* OpenDB Database\n* Design Constraints\n#### Preview:\n<img src=\"data:image/png;base64,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\" />"
          },
          "metadata": {}
        }
      ],
      "source": [
        "display(floorplan)"
      ]
    },
    {
      "cell_type": "markdown",
      "metadata": {
        "id": "jdvi2_GbWGTa"
      },
      "source": [
        "### Tap/Endcap Cell Insertion\n",
        "\n",
        "This places two kinds of cells on the floorplan:\n",
        "\n",
        "* End cap/boundary cells: Added at the beginning and end of each row. True to\n",
        "  their name, they \"cap off\" the core area of a design.\n",
        "* Tap cells: Placed in a polka dot-ish fashion across the rows. Tap cells\n",
        "  connect VDD to the nwell and the psubstrate to VSS, which the majority of cells\n",
        "  do not do themselves to save area- but if you go long enough without one such\n",
        "  connection you end up with the cell \"latching-up\"; i.e.; refusing to switch\n",
        "  back to LO from HI.\n",
        "\n",
        "  There is a maximum distance between tap cells enforced as part of every\n",
        "  foundry process."
      ]
    },
    {
      "cell_type": "code",
      "execution_count": null,
      "metadata": {
        "id": "pn_Zuh_6WGTa"
      },
      "outputs": [],
      "source": [
        "TapEndcapInsertion = Step.factory.get(\"OpenROAD.TapEndcapInsertion\")\n",
        "\n",
        "tdi = TapEndcapInsertion(state_in=floorplan.state_out)\n",
        "tdi.start()"
      ]
    },
    {
      "cell_type": "code",
      "execution_count": null,
      "metadata": {
        "id": "O0VxoNw6WGTa"
      },
      "outputs": [],
      "source": [
        "display(tdi)"
      ]
    },
    {
      "cell_type": "markdown",
      "metadata": {
        "id": "Y6Woi1wdWGTa"
      },
      "source": [
        "### I/O Placement\n",
        "\n",
        "This places metal pins at the edges of the design corresponding to the top level\n",
        "inputs and outputs for your design. These pins act as the interface with other\n",
        "designs when you integrate it with other designs."
      ]
    },
    {
      "cell_type": "code",
      "execution_count": 42,
      "metadata": {
        "scrolled": true,
        "id": "tzMZ9eCPWGTa",
        "outputId": "79fe6673-d75f-428a-ae10-f0de4295e3d4",
        "colab": {
          "base_uri": "https://localhost:8080/",
          "height": 1000
        }
      },
      "outputs": [
        {
          "output_type": "display_data",
          "data": {
            "text/plain": [
              "\u001b[92m────────────────────────────────────────────────── \u001b[0mI/O Placement\u001b[92m ──────────────────────────────────────────────────\u001b[0m\n"
            ],
            "text/html": [
              "<pre style=\"white-space:pre;overflow-x:auto;line-height:normal;font-family:Menlo,'DejaVu Sans Mono',consolas,'Courier New',monospace\"><span style=\"color: #00ff00; text-decoration-color: #00ff00\">────────────────────────────────────────────────── </span>I/O Placement<span style=\"color: #00ff00; text-decoration-color: #00ff00\"> ──────────────────────────────────────────────────</span>\n",
              "</pre>\n"
            ]
          },
          "metadata": {}
        },
        {
          "output_type": "display_data",
          "data": {
            "text/plain": [
              "\u001b[2;36m[19:53:28]\u001b[0m\u001b[2;36m \u001b[0mVERBOSE  Running \u001b[32m'OpenROAD.IOPlacement'\u001b[0m…                                                    \u001b]8;id=117207;file:///content/openlane_ipynb/openlane/steps/step.py\u001b\\\u001b[2mstep.py\u001b[0m\u001b]8;;\u001b\\\u001b[2m:\u001b[0m\u001b]8;id=492138;file:///content/openlane_ipynb/openlane/steps/step.py#1088\u001b\\\u001b[2m1088\u001b[0m\u001b]8;;\u001b\\\n"
            ],
            "text/html": [
              "<pre style=\"white-space:pre;overflow-x:auto;line-height:normal;font-family:Menlo,'DejaVu Sans Mono',consolas,'Courier New',monospace\"><span style=\"color: #7fbfbf; text-decoration-color: #7fbfbf\">[19:53:28] </span>VERBOSE  Running <span style=\"color: #008000; text-decoration-color: #008000\">'OpenROAD.IOPlacement'</span>…                                                    <a href=\"file:///content/openlane_ipynb/openlane/steps/step.py\" target=\"_blank\"><span style=\"color: #7f7f7f; text-decoration-color: #7f7f7f\">step.py</span></a><span style=\"color: #7f7f7f; text-decoration-color: #7f7f7f\">:</span><a href=\"file:///content/openlane_ipynb/openlane/steps/step.py#1088\" target=\"_blank\"><span style=\"color: #7f7f7f; text-decoration-color: #7f7f7f\">1088</span></a>\n",
              "</pre>\n"
            ]
          },
          "metadata": {}
        },
        {
          "output_type": "display_data",
          "data": {
            "text/plain": [
              "\u001b[2;36m[19:53:28]\u001b[0m\u001b[2;36m \u001b[0mVERBOSE  Logging subprocess to                                                              \u001b]8;id=633320;file:///content/openlane_ipynb/openlane/steps/step.py\u001b\\\u001b[2mstep.py\u001b[0m\u001b]8;;\u001b\\\u001b[2m:\u001b[0m\u001b]8;id=408903;file:///content/openlane_ipynb/openlane/steps/step.py#1268\u001b\\\u001b[2m1268\u001b[0m\u001b]8;;\u001b\\\n",
              "\u001b[2;36m           \u001b[0m         \u001b]8;id=228400;file:///content/openlane_run/7-openroad-ioplacement/openroad-ioplacement.log\u001b\\\u001b[95mopenlane_run/\u001b[0m\u001b]8;;\u001b\\\u001b]8;id=656369;file:///content/openlane_run/7-openroad-ioplacement/openroad-ioplacement.log\u001b\\\u001b[1;36m7\u001b[0m\u001b]8;;\u001b\\\u001b]8;id=228400;file:///content/openlane_run/7-openroad-ioplacement/openroad-ioplacement.log\u001b\\\u001b[95m-openroad-ioplacement/openroad-ioplacement.log\u001b[0m\u001b]8;;\u001b\\…                      \u001b[2m            \u001b[0m\n"
            ],
            "text/html": [
              "<pre style=\"white-space:pre;overflow-x:auto;line-height:normal;font-family:Menlo,'DejaVu Sans Mono',consolas,'Courier New',monospace\"><span style=\"color: #7fbfbf; text-decoration-color: #7fbfbf\">[19:53:28] </span>VERBOSE  Logging subprocess to                                                              <a href=\"file:///content/openlane_ipynb/openlane/steps/step.py\" target=\"_blank\"><span style=\"color: #7f7f7f; text-decoration-color: #7f7f7f\">step.py</span></a><span style=\"color: #7f7f7f; text-decoration-color: #7f7f7f\">:</span><a href=\"file:///content/openlane_ipynb/openlane/steps/step.py#1268\" target=\"_blank\"><span style=\"color: #7f7f7f; text-decoration-color: #7f7f7f\">1268</span></a>\n",
              "<span style=\"color: #7fbfbf; text-decoration-color: #7fbfbf\">           </span>         <a href=\"file:///content/openlane_run/7-openroad-ioplacement/openroad-ioplacement.log\" target=\"_blank\"><span style=\"color: #ff00ff; text-decoration-color: #ff00ff\">openlane_run/</span></a><a href=\"file:///content/openlane_run/7-openroad-ioplacement/openroad-ioplacement.log\" target=\"_blank\"><span style=\"color: #008080; text-decoration-color: #008080; font-weight: bold\">7</span></a><a href=\"file:///content/openlane_run/7-openroad-ioplacement/openroad-ioplacement.log\" target=\"_blank\"><span style=\"color: #ff00ff; text-decoration-color: #ff00ff\">-openroad-ioplacement/openroad-ioplacement.log</span></a>…                      <span style=\"color: #7f7f7f; text-decoration-color: #7f7f7f\">            </span>\n",
              "</pre>\n"
            ]
          },
          "metadata": {}
        },
        {
          "output_type": "display_data",
          "data": {
            "text/plain": [
              "Reading OpenROAD database at \u001b[32m'/content/openlane_run/5-openroad-tapendcapinsertion/spm.odb'\u001b[0m…                        \n"
            ],
            "text/html": [
              "<pre style=\"white-space:pre;overflow-x:auto;line-height:normal;font-family:Menlo,'DejaVu Sans Mono',consolas,'Courier New',monospace\">Reading OpenROAD database at <span style=\"color: #008000; text-decoration-color: #008000\">'/content/openlane_run/5-openroad-tapendcapinsertion/spm.odb'</span>…                        \n",
              "</pre>\n"
            ]
          },
          "metadata": {}
        },
        {
          "output_type": "display_data",
          "data": {
            "text/plain": [
              "Reading library file at \u001b[32m'/root/.volare/sky130A/libs.ref/sky130_fd_sc_hd/lib/sky130_fd_sc_hd__tt_025C_1v80.lib'\u001b[0m…    \n"
            ],
            "text/html": [
              "<pre style=\"white-space:pre;overflow-x:auto;line-height:normal;font-family:Menlo,'DejaVu Sans Mono',consolas,'Courier New',monospace\">Reading library file at <span style=\"color: #008000; text-decoration-color: #008000\">'/root/.volare/sky130A/libs.ref/sky130_fd_sc_hd/lib/sky130_fd_sc_hd__tt_025C_1v80.lib'</span>…    \n",
              "</pre>\n"
            ]
          },
          "metadata": {}
        },
        {
          "output_type": "display_data",
          "data": {
            "text/plain": [
              "Reading design constraints file at \u001b[32m'/content/openlane_ipynb/openlane/scripts/base.sdc'\u001b[0m…                            \n"
            ],
            "text/html": [
              "<pre style=\"white-space:pre;overflow-x:auto;line-height:normal;font-family:Menlo,'DejaVu Sans Mono',consolas,'Courier New',monospace\">Reading design constraints file at <span style=\"color: #008000; text-decoration-color: #008000\">'/content/openlane_ipynb/openlane/scripts/base.sdc'</span>…                            \n",
              "</pre>\n"
            ]
          },
          "metadata": {}
        },
        {
          "output_type": "display_data",
          "data": {
            "text/plain": [
              "\u001b[1m[\u001b[0mINFO\u001b[1m]\u001b[0m Using clock clk…                                                                                            \n"
            ],
            "text/html": [
              "<pre style=\"white-space:pre;overflow-x:auto;line-height:normal;font-family:Menlo,'DejaVu Sans Mono',consolas,'Courier New',monospace\"><span style=\"font-weight: bold\">[</span>INFO<span style=\"font-weight: bold\">]</span> Using clock clk…                                                                                            \n",
              "</pre>\n"
            ]
          },
          "metadata": {}
        },
        {
          "output_type": "display_data",
          "data": {
            "text/plain": [
              "\u001b[1m[\u001b[0mINFO\u001b[1m]\u001b[0m Setting output delay to: \u001b[1;36m2\u001b[0m                                                                                  \n"
            ],
            "text/html": [
              "<pre style=\"white-space:pre;overflow-x:auto;line-height:normal;font-family:Menlo,'DejaVu Sans Mono',consolas,'Courier New',monospace\"><span style=\"font-weight: bold\">[</span>INFO<span style=\"font-weight: bold\">]</span> Setting output delay to: <span style=\"color: #008080; text-decoration-color: #008080; font-weight: bold\">2</span>                                                                                  \n",
              "</pre>\n"
            ]
          },
          "metadata": {}
        },
        {
          "output_type": "display_data",
          "data": {
            "text/plain": [
              "\u001b[1m[\u001b[0mINFO\u001b[1m]\u001b[0m Setting input delay to: \u001b[1;36m2\u001b[0m                                                                                   \n"
            ],
            "text/html": [
              "<pre style=\"white-space:pre;overflow-x:auto;line-height:normal;font-family:Menlo,'DejaVu Sans Mono',consolas,'Courier New',monospace\"><span style=\"font-weight: bold\">[</span>INFO<span style=\"font-weight: bold\">]</span> Setting input delay to: <span style=\"color: #008080; text-decoration-color: #008080; font-weight: bold\">2</span>                                                                                   \n",
              "</pre>\n"
            ]
          },
          "metadata": {}
        },
        {
          "output_type": "display_data",
          "data": {
            "text/plain": [
              "\u001b[1m[\u001b[0mINFO\u001b[1m]\u001b[0m Setting load to: \u001b[1;36m0.033442\u001b[0m                                                                                   \n"
            ],
            "text/html": [
              "<pre style=\"white-space:pre;overflow-x:auto;line-height:normal;font-family:Menlo,'DejaVu Sans Mono',consolas,'Courier New',monospace\"><span style=\"font-weight: bold\">[</span>INFO<span style=\"font-weight: bold\">]</span> Setting load to: <span style=\"color: #008080; text-decoration-color: #008080; font-weight: bold\">0.033442</span>                                                                                   \n",
              "</pre>\n"
            ]
          },
          "metadata": {}
        },
        {
          "output_type": "display_data",
          "data": {
            "text/plain": [
              "\u001b[1m[\u001b[0mINFO\u001b[1m]\u001b[0m Setting clock uncertainty to: \u001b[1;36m0.25\u001b[0m                                                                          \n"
            ],
            "text/html": [
              "<pre style=\"white-space:pre;overflow-x:auto;line-height:normal;font-family:Menlo,'DejaVu Sans Mono',consolas,'Courier New',monospace\"><span style=\"font-weight: bold\">[</span>INFO<span style=\"font-weight: bold\">]</span> Setting clock uncertainty to: <span style=\"color: #008080; text-decoration-color: #008080; font-weight: bold\">0.25</span>                                                                          \n",
              "</pre>\n"
            ]
          },
          "metadata": {}
        },
        {
          "output_type": "display_data",
          "data": {
            "text/plain": [
              "\u001b[1m[\u001b[0mINFO\u001b[1m]\u001b[0m Setting clock transition to: \u001b[1;36m0.1499999999999999944488848768742172978818416595458984375\u001b[0m                      \n"
            ],
            "text/html": [
              "<pre style=\"white-space:pre;overflow-x:auto;line-height:normal;font-family:Menlo,'DejaVu Sans Mono',consolas,'Courier New',monospace\"><span style=\"font-weight: bold\">[</span>INFO<span style=\"font-weight: bold\">]</span> Setting clock transition to: <span style=\"color: #008080; text-decoration-color: #008080; font-weight: bold\">0.1499999999999999944488848768742172978818416595458984375</span>                      \n",
              "</pre>\n"
            ]
          },
          "metadata": {}
        },
        {
          "output_type": "display_data",
          "data": {
            "text/plain": [
              "\u001b[1m[\u001b[0mINFO\u001b[1m]\u001b[0m Setting timing derate to: \u001b[1;36m5\u001b[0m%                                                                                \n"
            ],
            "text/html": [
              "<pre style=\"white-space:pre;overflow-x:auto;line-height:normal;font-family:Menlo,'DejaVu Sans Mono',consolas,'Courier New',monospace\"><span style=\"font-weight: bold\">[</span>INFO<span style=\"font-weight: bold\">]</span> Setting timing derate to: <span style=\"color: #008080; text-decoration-color: #008080; font-weight: bold\">5</span>%                                                                                \n",
              "</pre>\n"
            ]
          },
          "metadata": {}
        },
        {
          "output_type": "display_data",
          "data": {
            "text/plain": [
              "\u001b[1m[\u001b[0mINFO\u001b[1m]\u001b[0m place_pins args: -min_distance \u001b[1;36m3\u001b[0m                                                                            \n"
            ],
            "text/html": [
              "<pre style=\"white-space:pre;overflow-x:auto;line-height:normal;font-family:Menlo,'DejaVu Sans Mono',consolas,'Courier New',monospace\"><span style=\"font-weight: bold\">[</span>INFO<span style=\"font-weight: bold\">]</span> place_pins args: -min_distance <span style=\"color: #008080; text-decoration-color: #008080; font-weight: bold\">3</span>                                                                            \n",
              "</pre>\n"
            ]
          },
          "metadata": {}
        },
        {
          "output_type": "display_data",
          "data": {
            "text/plain": [
              "Found \u001b[1;36m0\u001b[0m macro blocks.                                                                                              \n"
            ],
            "text/html": [
              "<pre style=\"white-space:pre;overflow-x:auto;line-height:normal;font-family:Menlo,'DejaVu Sans Mono',consolas,'Courier New',monospace\">Found <span style=\"color: #008080; text-decoration-color: #008080; font-weight: bold\">0</span> macro blocks.                                                                                              \n",
              "</pre>\n"
            ]
          },
          "metadata": {}
        },
        {
          "output_type": "display_data",
          "data": {
            "text/plain": [
              "\u001b[1m[\u001b[0mINFO PPL-\u001b[1;36m0010\u001b[0m\u001b[1m]\u001b[0m Tentative \u001b[1;36m0\u001b[0m to set up sections.                                                                    \n"
            ],
            "text/html": [
              "<pre style=\"white-space:pre;overflow-x:auto;line-height:normal;font-family:Menlo,'DejaVu Sans Mono',consolas,'Courier New',monospace\"><span style=\"font-weight: bold\">[</span>INFO PPL-<span style=\"color: #008080; text-decoration-color: #008080; font-weight: bold\">0010</span><span style=\"font-weight: bold\">]</span> Tentative <span style=\"color: #008080; text-decoration-color: #008080; font-weight: bold\">0</span> to set up sections.                                                                    \n",
              "</pre>\n"
            ]
          },
          "metadata": {}
        },
        {
          "output_type": "display_data",
          "data": {
            "text/plain": [
              "\u001b[1m[\u001b[0mINFO PPL-\u001b[1;36m0001\u001b[0m\u001b[1m]\u001b[0m Number of slots           \u001b[1;36m124\u001b[0m                                                                      \n"
            ],
            "text/html": [
              "<pre style=\"white-space:pre;overflow-x:auto;line-height:normal;font-family:Menlo,'DejaVu Sans Mono',consolas,'Courier New',monospace\"><span style=\"font-weight: bold\">[</span>INFO PPL-<span style=\"color: #008080; text-decoration-color: #008080; font-weight: bold\">0001</span><span style=\"font-weight: bold\">]</span> Number of slots           <span style=\"color: #008080; text-decoration-color: #008080; font-weight: bold\">124</span>                                                                      \n",
              "</pre>\n"
            ]
          },
          "metadata": {}
        },
        {
          "output_type": "display_data",
          "data": {
            "text/plain": [
              "\u001b[1m[\u001b[0mINFO PPL-\u001b[1;36m0002\u001b[0m\u001b[1m]\u001b[0m Number of I/O             \u001b[1;36m36\u001b[0m                                                                       \n"
            ],
            "text/html": [
              "<pre style=\"white-space:pre;overflow-x:auto;line-height:normal;font-family:Menlo,'DejaVu Sans Mono',consolas,'Courier New',monospace\"><span style=\"font-weight: bold\">[</span>INFO PPL-<span style=\"color: #008080; text-decoration-color: #008080; font-weight: bold\">0002</span><span style=\"font-weight: bold\">]</span> Number of I/O             <span style=\"color: #008080; text-decoration-color: #008080; font-weight: bold\">36</span>                                                                       \n",
              "</pre>\n"
            ]
          },
          "metadata": {}
        },
        {
          "output_type": "display_data",
          "data": {
            "text/plain": [
              "\u001b[1m[\u001b[0mINFO PPL-\u001b[1;36m0003\u001b[0m\u001b[1m]\u001b[0m Number of I/O w/sink      \u001b[1;36m36\u001b[0m                                                                       \n"
            ],
            "text/html": [
              "<pre style=\"white-space:pre;overflow-x:auto;line-height:normal;font-family:Menlo,'DejaVu Sans Mono',consolas,'Courier New',monospace\"><span style=\"font-weight: bold\">[</span>INFO PPL-<span style=\"color: #008080; text-decoration-color: #008080; font-weight: bold\">0003</span><span style=\"font-weight: bold\">]</span> Number of I/O w/sink      <span style=\"color: #008080; text-decoration-color: #008080; font-weight: bold\">36</span>                                                                       \n",
              "</pre>\n"
            ]
          },
          "metadata": {}
        },
        {
          "output_type": "display_data",
          "data": {
            "text/plain": [
              "\u001b[1m[\u001b[0mINFO PPL-\u001b[1;36m0004\u001b[0m\u001b[1m]\u001b[0m Number of I/O w/o sink    \u001b[1;36m0\u001b[0m                                                                        \n"
            ],
            "text/html": [
              "<pre style=\"white-space:pre;overflow-x:auto;line-height:normal;font-family:Menlo,'DejaVu Sans Mono',consolas,'Courier New',monospace\"><span style=\"font-weight: bold\">[</span>INFO PPL-<span style=\"color: #008080; text-decoration-color: #008080; font-weight: bold\">0004</span><span style=\"font-weight: bold\">]</span> Number of I/O w/o sink    <span style=\"color: #008080; text-decoration-color: #008080; font-weight: bold\">0</span>                                                                        \n",
              "</pre>\n"
            ]
          },
          "metadata": {}
        },
        {
          "output_type": "display_data",
          "data": {
            "text/plain": [
              "\u001b[1m[\u001b[0mINFO PPL-\u001b[1;36m0005\u001b[0m\u001b[1m]\u001b[0m Slots per section         \u001b[1;36m200\u001b[0m                                                                      \n"
            ],
            "text/html": [
              "<pre style=\"white-space:pre;overflow-x:auto;line-height:normal;font-family:Menlo,'DejaVu Sans Mono',consolas,'Courier New',monospace\"><span style=\"font-weight: bold\">[</span>INFO PPL-<span style=\"color: #008080; text-decoration-color: #008080; font-weight: bold\">0005</span><span style=\"font-weight: bold\">]</span> Slots per section         <span style=\"color: #008080; text-decoration-color: #008080; font-weight: bold\">200</span>                                                                      \n",
              "</pre>\n"
            ]
          },
          "metadata": {}
        },
        {
          "output_type": "display_data",
          "data": {
            "text/plain": [
              "\u001b[1m[\u001b[0mINFO PPL-\u001b[1;36m0006\u001b[0m\u001b[1m]\u001b[0m Slots increase factor     \u001b[1;36m0.01\u001b[0m                                                                     \n"
            ],
            "text/html": [
              "<pre style=\"white-space:pre;overflow-x:auto;line-height:normal;font-family:Menlo,'DejaVu Sans Mono',consolas,'Courier New',monospace\"><span style=\"font-weight: bold\">[</span>INFO PPL-<span style=\"color: #008080; text-decoration-color: #008080; font-weight: bold\">0006</span><span style=\"font-weight: bold\">]</span> Slots increase factor     <span style=\"color: #008080; text-decoration-color: #008080; font-weight: bold\">0.01</span>                                                                     \n",
              "</pre>\n"
            ]
          },
          "metadata": {}
        },
        {
          "output_type": "display_data",
          "data": {
            "text/plain": [
              "\u001b[1m[\u001b[0mINFO PPL-\u001b[1;36m0008\u001b[0m\u001b[1m]\u001b[0m Successfully assigned pins to sections.                                                            \n"
            ],
            "text/html": [
              "<pre style=\"white-space:pre;overflow-x:auto;line-height:normal;font-family:Menlo,'DejaVu Sans Mono',consolas,'Courier New',monospace\"><span style=\"font-weight: bold\">[</span>INFO PPL-<span style=\"color: #008080; text-decoration-color: #008080; font-weight: bold\">0008</span><span style=\"font-weight: bold\">]</span> Successfully assigned pins to sections.                                                            \n",
              "</pre>\n"
            ]
          },
          "metadata": {}
        },
        {
          "output_type": "display_data",
          "data": {
            "text/plain": [
              "\u001b[1m[\u001b[0mINFO PPL-\u001b[1;36m0012\u001b[0m\u001b[1m]\u001b[0m I/O nets HPWL: \u001b[1;36m2621.62\u001b[0m um.                                                                         \n"
            ],
            "text/html": [
              "<pre style=\"white-space:pre;overflow-x:auto;line-height:normal;font-family:Menlo,'DejaVu Sans Mono',consolas,'Courier New',monospace\"><span style=\"font-weight: bold\">[</span>INFO PPL-<span style=\"color: #008080; text-decoration-color: #008080; font-weight: bold\">0012</span><span style=\"font-weight: bold\">]</span> I/O nets HPWL: <span style=\"color: #008080; text-decoration-color: #008080; font-weight: bold\">2621.62</span> um.                                                                         \n",
              "</pre>\n"
            ]
          },
          "metadata": {}
        },
        {
          "output_type": "display_data",
          "data": {
            "text/plain": [
              "Setting global connections for newly added cells…                                                                  \n"
            ],
            "text/html": [
              "<pre style=\"white-space:pre;overflow-x:auto;line-height:normal;font-family:Menlo,'DejaVu Sans Mono',consolas,'Courier New',monospace\">Setting global connections for newly added cells…                                                                  \n",
              "</pre>\n"
            ]
          },
          "metadata": {}
        },
        {
          "output_type": "display_data",
          "data": {
            "text/plain": [
              "\u001b[1m[\u001b[0mINFO\u001b[1m]\u001b[0m Setting global connections\u001b[33m...\u001b[0m                                                                               \n"
            ],
            "text/html": [
              "<pre style=\"white-space:pre;overflow-x:auto;line-height:normal;font-family:Menlo,'DejaVu Sans Mono',consolas,'Courier New',monospace\"><span style=\"font-weight: bold\">[</span>INFO<span style=\"font-weight: bold\">]</span> Setting global connections<span style=\"color: #808000; text-decoration-color: #808000\">...</span>                                                                               \n",
              "</pre>\n"
            ]
          },
          "metadata": {}
        },
        {
          "output_type": "display_data",
          "data": {
            "text/plain": [
              "Writing OpenROAD database to \u001b[32m'/content/openlane_run/7-openroad-ioplacement/spm.odb'\u001b[0m…                               \n"
            ],
            "text/html": [
              "<pre style=\"white-space:pre;overflow-x:auto;line-height:normal;font-family:Menlo,'DejaVu Sans Mono',consolas,'Courier New',monospace\">Writing OpenROAD database to <span style=\"color: #008000; text-decoration-color: #008000\">'/content/openlane_run/7-openroad-ioplacement/spm.odb'</span>…                               \n",
              "</pre>\n"
            ]
          },
          "metadata": {}
        },
        {
          "output_type": "display_data",
          "data": {
            "text/plain": [
              "Writing netlist to \u001b[32m'/content/openlane_run/7-openroad-ioplacement/spm.nl.v'\u001b[0m…                                        \n"
            ],
            "text/html": [
              "<pre style=\"white-space:pre;overflow-x:auto;line-height:normal;font-family:Menlo,'DejaVu Sans Mono',consolas,'Courier New',monospace\">Writing netlist to <span style=\"color: #008000; text-decoration-color: #008000\">'/content/openlane_run/7-openroad-ioplacement/spm.nl.v'</span>…                                        \n",
              "</pre>\n"
            ]
          },
          "metadata": {}
        },
        {
          "output_type": "display_data",
          "data": {
            "text/plain": [
              "Writing powered netlist to \u001b[32m'/content/openlane_run/7-openroad-ioplacement/spm.pnl.v'\u001b[0m…                               \n"
            ],
            "text/html": [
              "<pre style=\"white-space:pre;overflow-x:auto;line-height:normal;font-family:Menlo,'DejaVu Sans Mono',consolas,'Courier New',monospace\">Writing powered netlist to <span style=\"color: #008000; text-decoration-color: #008000\">'/content/openlane_run/7-openroad-ioplacement/spm.pnl.v'</span>…                               \n",
              "</pre>\n"
            ]
          },
          "metadata": {}
        },
        {
          "output_type": "display_data",
          "data": {
            "text/plain": [
              "Writing layout to \u001b[32m'/content/openlane_run/7-openroad-ioplacement/spm.def'\u001b[0m…                                          \n"
            ],
            "text/html": [
              "<pre style=\"white-space:pre;overflow-x:auto;line-height:normal;font-family:Menlo,'DejaVu Sans Mono',consolas,'Courier New',monospace\">Writing layout to <span style=\"color: #008000; text-decoration-color: #008000\">'/content/openlane_run/7-openroad-ioplacement/spm.def'</span>…                                          \n",
              "</pre>\n"
            ]
          },
          "metadata": {}
        },
        {
          "output_type": "display_data",
          "data": {
            "text/plain": [
              "Writing timing constraints to \u001b[32m'/content/openlane_run/7-openroad-ioplacement/spm.sdc'\u001b[0m…                              \n"
            ],
            "text/html": [
              "<pre style=\"white-space:pre;overflow-x:auto;line-height:normal;font-family:Menlo,'DejaVu Sans Mono',consolas,'Courier New',monospace\">Writing timing constraints to <span style=\"color: #008000; text-decoration-color: #008000\">'/content/openlane_run/7-openroad-ioplacement/spm.sdc'</span>…                              \n",
              "</pre>\n"
            ]
          },
          "metadata": {}
        },
        {
          "output_type": "execute_result",
          "data": {
            "text/plain": [
              "{'nl': Path('/content/openlane_run/7-openroad-ioplacement/spm.nl.v'), 'pnl': Path('/content/openlane_run/7-openroad-ioplacement/spm.pnl.v'), 'pnl-sdf-friendly': None, 'pnl-npc': None, 'def': Path('/content/openlane_run/7-openroad-ioplacement/spm.def'), 'lef': None, 'openroad-lef': None, 'odb': Path('/content/openlane_run/7-openroad-ioplacement/spm.odb'), 'sdc': Path('/content/openlane_run/7-openroad-ioplacement/spm.sdc'), 'sdf': None, 'spef': None, 'lib': None, 'spice': None, 'mag': None, 'gds': None, 'mag_gds': None, 'klayout_gds': None, 'json_h': None, 'vh': None, 'metrics': {'design__instance__count': 385, 'design__instance__area': Decimal('3778.62'), 'design__instance_unmapped__count': 0, 'synthesis__check_error__count': 0, 'design__die__bbox': '0.0 0.0 96.535 107.255', 'design__core__bbox': '5.52 10.88 90.62 95.2', 'flow__warnings__count': 0, 'flow__errors__count': 0, 'design__io': 36, 'design__die__area': Decimal('10353.9'), 'design__core__area': Decimal('7175.63'), 'design__instance__count__stdcell': 385, 'design__instance__area__stdcell': Decimal('3778.62'), 'design__instance__count__macros': 0, 'design__instance__area__macros': 0, 'design__instance__utilization': Decimal('0.526591'), 'design__instance__utilization__stdcell': Decimal('0.526591'), 'floorplan__design__io': 36, 'design__io__hpwl': 2621616}}"
            ],
            "text/html": [
              "<div style=\"display: grid; grid-auto-columns: minmax(0, 1fr); grid-auto-rows: minmax(0, 1fr); grid-auto-flow: column;\">\n",
              "        <table style=\"grid-column-start: 1; grid-column-end: 2; \">\n",
              "        \n",
              "                <tr>\n",
              "                    <th style=\"text-align: left;\">Format</th>\n",
              "                    <th style=\"text-align: left;\">Path</th>\n",
              "                </tr>\n",
              "            \n",
              "                <tr>\n",
              "                    <td style=\"text-align: left;\">nl</td>\n",
              "                    <td style=\"text-align: left;\">openlane_run/7-openroad-ioplacement/spm.nl.v</td>\n",
              "                </tr>\n",
              "            \n",
              "                <tr>\n",
              "                    <td style=\"text-align: left;\">pnl</td>\n",
              "                    <td style=\"text-align: left;\">openlane_run/7-openroad-ioplacement/spm.pnl.v</td>\n",
              "                </tr>\n",
              "            \n",
              "                <tr>\n",
              "                    <td style=\"text-align: left;\">def</td>\n",
              "                    <td style=\"text-align: left;\">openlane_run/7-openroad-ioplacement/spm.def</td>\n",
              "                </tr>\n",
              "            \n",
              "                <tr>\n",
              "                    <td style=\"text-align: left;\">odb</td>\n",
              "                    <td style=\"text-align: left;\">openlane_run/7-openroad-ioplacement/spm.odb</td>\n",
              "                </tr>\n",
              "            \n",
              "                <tr>\n",
              "                    <td style=\"text-align: left;\">sdc</td>\n",
              "                    <td style=\"text-align: left;\">openlane_run/7-openroad-ioplacement/spm.sdc</td>\n",
              "                </tr>\n",
              "            \n",
              "        </table>\n",
              "        </div>"
            ]
          },
          "metadata": {},
          "execution_count": 42
        }
      ],
      "source": [
        "IOPlacement = Step.factory.get(\"OpenROAD.IOPlacement\")\n",
        "\n",
        "ioplace = IOPlacement(state_in=tdi.state_out)\n",
        "ioplace.start()"
      ]
    },
    {
      "cell_type": "code",
      "execution_count": 43,
      "metadata": {
        "id": "fvfpX_RsWGTa",
        "outputId": "2d018793-850e-4ab6-d4b8-2901dd77652b",
        "colab": {
          "base_uri": "https://localhost:8080/",
          "height": 1000
        }
      },
      "outputs": [
        {
          "output_type": "display_data",
          "data": {
            "text/plain": [
              "\u001b[92m──────────────────────────────────────────── \u001b[0mRender Image \u001b[1m(\u001b[0mw/ KLayout\u001b[1m)\u001b[0m\u001b[92m ────────────────────────────────────────────\u001b[0m\n"
            ],
            "text/html": [
              "<pre style=\"white-space:pre;overflow-x:auto;line-height:normal;font-family:Menlo,'DejaVu Sans Mono',consolas,'Courier New',monospace\"><span style=\"color: #00ff00; text-decoration-color: #00ff00\">──────────────────────────────────────────── </span>Render Image <span style=\"font-weight: bold\">(</span>w/ KLayout<span style=\"font-weight: bold\">)</span><span style=\"color: #00ff00; text-decoration-color: #00ff00\"> ────────────────────────────────────────────</span>\n",
              "</pre>\n"
            ]
          },
          "metadata": {}
        },
        {
          "output_type": "display_data",
          "data": {
            "text/plain": [
              "\u001b[2;36m[19:53:33]\u001b[0m\u001b[2;36m \u001b[0mVERBOSE  Running \u001b[32m'KLayout.Render'\u001b[0m…                                                          \u001b]8;id=570530;file:///content/openlane_ipynb/openlane/steps/step.py\u001b\\\u001b[2mstep.py\u001b[0m\u001b]8;;\u001b\\\u001b[2m:\u001b[0m\u001b]8;id=189164;file:///content/openlane_ipynb/openlane/steps/step.py#1088\u001b\\\u001b[2m1088\u001b[0m\u001b]8;;\u001b\\\n"
            ],
            "text/html": [
              "<pre style=\"white-space:pre;overflow-x:auto;line-height:normal;font-family:Menlo,'DejaVu Sans Mono',consolas,'Courier New',monospace\"><span style=\"color: #7fbfbf; text-decoration-color: #7fbfbf\">[19:53:33] </span>VERBOSE  Running <span style=\"color: #008000; text-decoration-color: #008000\">'KLayout.Render'</span>…                                                          <a href=\"file:///content/openlane_ipynb/openlane/steps/step.py\" target=\"_blank\"><span style=\"color: #7f7f7f; text-decoration-color: #7f7f7f\">step.py</span></a><span style=\"color: #7f7f7f; text-decoration-color: #7f7f7f\">:</span><a href=\"file:///content/openlane_ipynb/openlane/steps/step.py#1088\" target=\"_blank\"><span style=\"color: #7f7f7f; text-decoration-color: #7f7f7f\">1088</span></a>\n",
              "</pre>\n"
            ]
          },
          "metadata": {}
        },
        {
          "output_type": "display_data",
          "data": {
            "text/plain": [
              "\u001b[2;36m[19:53:33]\u001b[0m\u001b[2;36m \u001b[0mVERBOSE  Logging subprocess to \u001b]8;id=265144;file:///tmp/openlane_klayout_tmp_45b9mzw4/klayout-render.log\u001b\\\u001b[95m..\u001b[0m\u001b]8;;\u001b\\\u001b]8;id=844191;file:///tmp/openlane_klayout_tmp_45b9mzw4/klayout-render.log\u001b\\\u001b[35m/tmp/openlane_klayout_tmp_45b9mzw4/\u001b[0m\u001b]8;;\u001b\\\u001b]8;id=579630;file:///tmp/openlane_klayout_tmp_45b9mzw4/klayout-render.log\u001b\\\u001b[95mklayout-render.log\u001b[0m\u001b]8;;\u001b\\…     \u001b]8;id=485522;file:///content/openlane_ipynb/openlane/steps/step.py\u001b\\\u001b[2mstep.py\u001b[0m\u001b]8;;\u001b\\\u001b[2m:\u001b[0m\u001b]8;id=615240;file:///content/openlane_ipynb/openlane/steps/step.py#1268\u001b\\\u001b[2m1268\u001b[0m\u001b]8;;\u001b\\\n"
            ],
            "text/html": [
              "<pre style=\"white-space:pre;overflow-x:auto;line-height:normal;font-family:Menlo,'DejaVu Sans Mono',consolas,'Courier New',monospace\"><span style=\"color: #7fbfbf; text-decoration-color: #7fbfbf\">[19:53:33] </span>VERBOSE  Logging subprocess to <a href=\"file:///tmp/openlane_klayout_tmp_45b9mzw4/klayout-render.log\" target=\"_blank\"><span style=\"color: #ff00ff; text-decoration-color: #ff00ff\">..</span></a><a href=\"file:///tmp/openlane_klayout_tmp_45b9mzw4/klayout-render.log\" target=\"_blank\"><span style=\"color: #800080; text-decoration-color: #800080\">/tmp/openlane_klayout_tmp_45b9mzw4/</span></a><a href=\"file:///tmp/openlane_klayout_tmp_45b9mzw4/klayout-render.log\" target=\"_blank\"><span style=\"color: #ff00ff; text-decoration-color: #ff00ff\">klayout-render.log</span></a>…     <a href=\"file:///content/openlane_ipynb/openlane/steps/step.py\" target=\"_blank\"><span style=\"color: #7f7f7f; text-decoration-color: #7f7f7f\">step.py</span></a><span style=\"color: #7f7f7f; text-decoration-color: #7f7f7f\">:</span><a href=\"file:///content/openlane_ipynb/openlane/steps/step.py#1268\" target=\"_blank\"><span style=\"color: #7f7f7f; text-decoration-color: #7f7f7f\">1268</span></a>\n",
              "</pre>\n"
            ]
          },
          "metadata": {}
        },
        {
          "output_type": "display_data",
          "data": {
            "text/plain": [
              "<openlane.steps.openroad.IOPlacement at 0x7bc62ba05190>"
            ],
            "text/markdown": "#### Time Elapsed: 0.91s\n#### Views updated:\n* Verilog Netlist\n* Powered Verilog Netlist\n* Design Exchange Format\n* OpenDB Database\n* Design Constraints\n#### Preview:\n<img src=\"data:image/png;base64,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\" />"
          },
          "metadata": {}
        }
      ],
      "source": [
        "display(ioplace)"
      ]
    },
    {
      "cell_type": "markdown",
      "metadata": {
        "id": "NddLgGGXWGTb"
      },
      "source": [
        "### Generating the Power Distribution Network (PDN)\n",
        "\n",
        "This creates the power distribution network for your design, which is essentially\n",
        "a plaid pattern of horizontal and vertical \"straps\" across the design that is\n",
        "then connected to the rails' VDD and VSS (via the tap cells.)\n",
        "\n",
        "You can find an explanation of how the power distribution network works at this\n",
        "link: https://openlane2.readthedocs.io/en/latest/usage/hardening_macros.html#pdn-generation\n",
        "\n",
        "While we typically don't need to mess with the PDN too much, the SPM is a small\n",
        "design, so we're going to need to make the plaid pattern formed by the PDN a bit\n",
        "smaller."
      ]
    },
    {
      "cell_type": "code",
      "execution_count": null,
      "metadata": {
        "scrolled": true,
        "id": "BUMpT7atWGTb"
      },
      "outputs": [],
      "source": [
        "GeneratePDN = Step.factory.get(\"OpenROAD.GeneratePDN\")\n",
        "\n",
        "pdn = GeneratePDN(\n",
        "    state_in=ioplace.state_out,\n",
        "    FP_PDN_VWIDTH=2,\n",
        "    FP_PDN_HWIDTH=2,\n",
        "    FP_PDN_VPITCH=30,\n",
        "    FP_PDN_HPITCH=30,\n",
        ")\n",
        "pdn.start()"
      ]
    },
    {
      "cell_type": "code",
      "execution_count": null,
      "metadata": {
        "id": "K1-rROkNWGTb"
      },
      "outputs": [],
      "source": [
        "display(pdn)"
      ]
    },
    {
      "cell_type": "markdown",
      "metadata": {
        "id": "7RYIWgTqWGTb"
      },
      "source": [
        "### Global Placement\n",
        "\n",
        "Global Placement is deciding on a fuzzy, non-final location for each of the cells,\n",
        "with the aim of minimizing the distance between cells that are connected\n",
        "together (more specifically, the total length of the not-yet-created wires that\n",
        "will connect them).\n",
        "\n",
        "As you will see in the `.display()` in the second cell below, the placement is\n",
        "considered \"illegal\", i.e., not properly aligned with the cell placement grid.\n",
        "This is addressed by \"Detailed Placement\", also referred to as \"placement\n",
        "legalization\", which is the next step."
      ]
    },
    {
      "cell_type": "code",
      "execution_count": null,
      "metadata": {
        "id": "5R2OSiaOWGTb"
      },
      "outputs": [],
      "source": [
        "GlobalPlacement = Step.factory.get(\"OpenROAD.GlobalPlacement\")\n",
        "\n",
        "gpl = GlobalPlacement(state_in=pdn.state_out)\n",
        "gpl.start()"
      ]
    },
    {
      "cell_type": "code",
      "execution_count": null,
      "metadata": {
        "id": "EG0fd-GIWGTb"
      },
      "outputs": [],
      "source": [
        "display(gpl)"
      ]
    },
    {
      "cell_type": "markdown",
      "metadata": {
        "id": "_ss1oFSfWGTb"
      },
      "source": [
        "### Detailed Placement\n",
        "\n",
        "This aligns the fuzzy placement from before with the grid, \"legalizing\" it."
      ]
    },
    {
      "cell_type": "code",
      "execution_count": null,
      "metadata": {
        "id": "43Y1e3QFWGTb"
      },
      "outputs": [],
      "source": [
        "DetailedPlacement = Step.factory.get(\"OpenROAD.DetailedPlacement\")\n",
        "\n",
        "dpl = DetailedPlacement(state_in=gpl.state_out)\n",
        "dpl.start()"
      ]
    },
    {
      "cell_type": "code",
      "execution_count": null,
      "metadata": {
        "id": "VFgTGtDwWGTb"
      },
      "outputs": [],
      "source": [
        "display(dpl)"
      ]
    },
    {
      "cell_type": "markdown",
      "metadata": {
        "id": "-xDevns4WGTb"
      },
      "source": [
        "### Clock Tree Synthesis (CTS)\n",
        "\n",
        "With the cells now having a final placement, we can go ahead and create what\n",
        "is known as the clock tree, i.e., the hierarchical set of buffers used\n",
        "for clock signal to minimize what is known as \"clock skew\"- variable delay\n",
        "of the clock cycle from register to register because of factors such as metal\n",
        "wire length, clock load (number of gates connected to the same clock buffer,)\n",
        "et cetera.\n",
        "\n",
        "The CTS step creates the cells and places the between the gaps in the detailed\n",
        "placement above."
      ]
    },
    {
      "cell_type": "code",
      "execution_count": null,
      "metadata": {
        "id": "X2xanE88WGTb"
      },
      "outputs": [],
      "source": [
        "CTS = Step.factory.get(\"OpenROAD.CTS\")\n",
        "\n",
        "cts = CTS(state_in=dpl.state_out)\n",
        "cts.start()"
      ]
    },
    {
      "cell_type": "code",
      "execution_count": null,
      "metadata": {
        "id": "8nzHvhetWGTb"
      },
      "outputs": [],
      "source": [
        "display(cts)"
      ]
    },
    {
      "cell_type": "markdown",
      "metadata": {
        "id": "dJ6Jc1JOWGTb"
      },
      "source": [
        "### Global Routing\n",
        "\n",
        "Global routing \"plans\" the routes the wires between two gates (or gates and\n",
        "I/O pins/the PDN) will take. The results of global routing (which are called\n",
        "\"routing guides\") are stored in internal data structures and have no effect on\n",
        "the actual design, so there is no `display()` statement."
      ]
    },
    {
      "cell_type": "code",
      "execution_count": null,
      "metadata": {
        "id": "bQISuLiPWGTb"
      },
      "outputs": [],
      "source": [
        "GlobalRouting = Step.factory.get(\"OpenROAD.GlobalRouting\")\n",
        "\n",
        "grt = GlobalRouting(state_in=cts.state_out)\n",
        "grt.start()"
      ]
    },
    {
      "cell_type": "markdown",
      "metadata": {
        "id": "qDLAEJ5xWGTj"
      },
      "source": [
        "### Detailed Routing\n",
        "\n",
        "Detailed routing uses the guides from Global Routing to actually create wires\n",
        "on the metal layers and connect the gates, making the connections finally physical.\n",
        "\n",
        "This is typically the longest step in the flow."
      ]
    },
    {
      "cell_type": "code",
      "execution_count": null,
      "metadata": {
        "id": "yoVRJtdWWGTk"
      },
      "outputs": [],
      "source": [
        "DetailedRouting = Step.factory.get(\"OpenROAD.DetailedRouting\")\n",
        "\n",
        "drt = DetailedRouting(state_in=grt.state_out)\n",
        "drt.start()"
      ]
    },
    {
      "cell_type": "code",
      "execution_count": null,
      "metadata": {
        "id": "Kp0X9xqvWGTk"
      },
      "outputs": [],
      "source": [
        "display(drt)"
      ]
    },
    {
      "cell_type": "markdown",
      "metadata": {
        "id": "vun0O063WGTk"
      },
      "source": [
        "### Fill Insertion\n",
        "\n",
        "Finally, as we're done placing all the essential cells, the only thing left to\n",
        "do is fill in the gaps.\n",
        "\n",
        "We prioritize the use of decap (decoupling capacitor) cells, which\n",
        "further supports the power distribution network, but when there aren't any\n",
        "small enough cells, we just use regular fill cells."
      ]
    },
    {
      "cell_type": "code",
      "execution_count": null,
      "metadata": {
        "id": "GUrhBdUqWGTk"
      },
      "outputs": [],
      "source": [
        "FillInsertion = Step.factory.get(\"OpenROAD.FillInsertion\")\n",
        "\n",
        "fill = FillInsertion(state_in=drt.state_out)\n",
        "fill.start()"
      ]
    },
    {
      "cell_type": "code",
      "execution_count": null,
      "metadata": {
        "id": "YXcozO98WGTk"
      },
      "outputs": [],
      "source": [
        "display(fill)"
      ]
    },
    {
      "cell_type": "markdown",
      "metadata": {
        "id": "JnVJUWFeWGTk"
      },
      "source": [
        "### Parasitics Extraction a.k.a. Resistance/Capacitance Extraction (RCX)\n",
        "\n",
        "This step does not alter the design- rather, it computes the\n",
        "[Parasitic elements](https://en.wikipedia.org/wiki/Parasitic_element_(electrical_networks))\n",
        "of the circuit, which have an effect of timing, as we prepare to do the final\n",
        "timing analysis.\n",
        "\n",
        "The parasitic elements are saved in the **Standard Parasitics Exchange Format**,\n",
        "or SPEF. OpenLane creates a SPEF file for each interconnect corner as described in\n",
        "the [Corners and STA](https://openlane2.readthedocs.io/en/latest/usage/corners_and_sta.html)\n",
        "section of the documentation."
      ]
    },
    {
      "cell_type": "code",
      "execution_count": null,
      "metadata": {
        "id": "qBdHq-WQWGTk"
      },
      "outputs": [],
      "source": [
        "RCX = Step.factory.get(\"OpenROAD.RCX\")\n",
        "\n",
        "rcx = RCX(state_in=fill.state_out)\n",
        "rcx.start()"
      ]
    },
    {
      "cell_type": "markdown",
      "metadata": {
        "id": "Fps_FLeNWGTk"
      },
      "source": [
        "### Static Timing Analysis (Post-PnR)\n",
        "\n",
        "STA is a process that verifies that a chip meets certain constraints on clock\n",
        "and data timings to run at its rated clock speed. See [Corners and STA](https://openlane2.readthedocs.io/en/latest/usage/corners_and_sta.html)\n",
        "in the documentation for more info.\n",
        "\n",
        "---\n",
        "\n",
        "This step generates two kinds of files:\n",
        "* `.lib`: Liberty™-compatible Library files. Can be used to do static timing\n",
        "  analysis when creating a design with this design as a sub-macro.\n",
        "* `.sdf`: Standard Delay Format. Can be used with certain simulation software\n",
        "  to do *dynamic* timing analysis.\n",
        "\n",
        "Unfortunately, the `.lib` files coming out of OpenLane right now are not super\n",
        "reliable for timing purposes and are only provided for completeness.\n",
        "When using OpenLane-created macros withing other designs, it is best to use the\n",
        "macro's final netlist and extracted parasitics instead."
      ]
    },
    {
      "cell_type": "code",
      "execution_count": null,
      "metadata": {
        "id": "5EXz9EpoWGTk"
      },
      "outputs": [],
      "source": [
        "STAPostPNR = Step.factory.get(\"OpenROAD.STAPostPNR\")\n",
        "\n",
        "sta_post_pnr = STAPostPNR(state_in=rcx.state_out)\n",
        "sta_post_pnr.start()"
      ]
    },
    {
      "cell_type": "markdown",
      "metadata": {
        "id": "fMbnfkZFWGTk"
      },
      "source": [
        "### Stream-out\n",
        "\n",
        "Stream-out is the process of converting the designs from the abstract formats\n",
        "using during floorplanning, placement and routing into a concrete format called\n",
        "GDSII (lit. Graphic Design System 2), which is the final file that is then sent\n",
        "for fabrication."
      ]
    },
    {
      "cell_type": "code",
      "execution_count": null,
      "metadata": {
        "id": "ik_rjZmXWGTk"
      },
      "outputs": [],
      "source": [
        "StreamOut = Step.factory.get(\"KLayout.StreamOut\")\n",
        "\n",
        "gds = StreamOut(state_in=sta_post_pnr.state_out)\n",
        "gds.start()"
      ]
    },
    {
      "cell_type": "code",
      "execution_count": null,
      "metadata": {
        "id": "HbwrmX8kWGTk"
      },
      "outputs": [],
      "source": [
        "display(gds)"
      ]
    },
    {
      "cell_type": "markdown",
      "metadata": {
        "id": "K85zuaezWGTk"
      },
      "source": [
        "### Design Rule Checks (DRC)\n",
        "\n",
        "DRC determines that the final layout does not violate any of the rules set by\n",
        "the foundry to ensure the design is actually manufacturable- for example,\n",
        "not enough space between two wires, *too much* space between tap cells, and so\n",
        "on.\n",
        "\n",
        "A design not passing DRC will typically be rejected by the foundry, who\n",
        "also run DRC on their side."
      ]
    },
    {
      "cell_type": "code",
      "execution_count": null,
      "metadata": {
        "id": "2qz6Eu_2WGTk"
      },
      "outputs": [],
      "source": [
        "DRC = Step.factory.get(\"Magic.DRC\")\n",
        "\n",
        "drc = DRC(state_in=gds.state_out)\n",
        "drc.start()"
      ]
    },
    {
      "cell_type": "markdown",
      "metadata": {
        "id": "W2ryoeR9WGTk"
      },
      "source": [
        "### SPICE Extraction for Layout vs. Schematic Check\n",
        "\n",
        "This step tries to reconstruct a SPICE netlist from the GDSII file, so it can\n",
        "later be used for the **Layout vs. Schematic** (LVS) check."
      ]
    },
    {
      "cell_type": "code",
      "execution_count": null,
      "metadata": {
        "id": "JZH51b7sWGTk"
      },
      "outputs": [],
      "source": [
        "SpiceExtraction = Step.factory.get(\"Magic.SpiceExtraction\")\n",
        "\n",
        "spx = SpiceExtraction(state_in=drc.state_out)\n",
        "spx.start()"
      ]
    },
    {
      "cell_type": "markdown",
      "metadata": {
        "id": "GmJ58aWHWGTk"
      },
      "source": [
        "### Layout vs. Schematic (LVS)\n",
        "\n",
        "A comparison between the final Verilog netlist (from PnR) and the final\n",
        "SPICE netlist (extracted.)\n",
        "\n",
        "This check effectively compares the physically implemented circuit to the final\n",
        "Verilog netlist output by OpenROAD.\n",
        "\n",
        "The idea is, if there are any disconnects, shorts or other mismatches in the\n",
        "physical implementation that do not exist in the logical view of the design,\n",
        "they would be caught at this step.\n",
        "\n",
        "Common issues that result in LVS violations include:\n",
        "* Lack of fill cells or tap cells in the design\n",
        "* Two unrelated signals to be shorted, or a wire to be disconnected (most\n",
        "  commonly seen with misconfigured PDN)\n",
        "\n",
        "Chips with LVS errors are typically dead on arrival."
      ]
    },
    {
      "cell_type": "code",
      "execution_count": null,
      "metadata": {
        "id": "dmPGEZX0WGTk"
      },
      "outputs": [],
      "source": [
        "LVS = Step.factory.get(\"Netgen.LVS\")\n",
        "\n",
        "lvs = LVS(state_in=spx.state_out)\n",
        "lvs.start()"
      ]
    }
  ],
  "metadata": {
    "kernelspec": {
      "display_name": "Python 3 (ipykernel)",
      "language": "python",
      "name": "python3"
    },
    "language_info": {
      "codemirror_mode": {
        "name": "ipython",
        "version": 3
      },
      "file_extension": ".py",
      "mimetype": "text/x-python",
      "name": "python",
      "nbconvert_exporter": "python",
      "pygments_lexer": "ipython3",
      "version": "3.11.6"
    },
    "vscode": {
      "interpreter": {
        "hash": "259a389b4057ccde35404af821e33afdf5883d9f2d987c370b23bfef9f2c3eb5"
      }
    },
    "colab": {
      "provenance": []
    }
  },
  "nbformat": 4,
  "nbformat_minor": 0
}